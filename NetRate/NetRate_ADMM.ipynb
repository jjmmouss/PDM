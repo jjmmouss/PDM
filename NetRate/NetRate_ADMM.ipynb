{
 "cells": [
  {
   "cell_type": "code",
   "execution_count": 104,
   "metadata": {},
   "outputs": [],
   "source": [
    "import networkx as nx # version 2.2\n",
    "import matplotlib.pyplot as plt\n",
    "import re\n",
    "import cvxpy as cp\n",
    "import operator #to sort elements in a list of tuples\n",
    "import itertools\n",
    "import math\n",
    "import numpy as np\n",
    "import os\n",
    "import sys\n",
    "import time\n",
    "import random\n",
    "\n",
    "import Init_NetRate as Init\n",
    "import cvxpy as cp\n",
    "import Cascade_generation_functions_NetRate as Gen\n",
    "import CVX_functions as cvx"
   ]
  },
  {
   "cell_type": "code",
   "execution_count": 79,
   "metadata": {},
   "outputs": [],
   "source": [
    "network_file_name = \"./Graph_test_SG.txt\"\n",
    "cascade_file_name = \"./Cascade_test_SG.txt\"\n",
    "window = 10\n",
    "eps = 0.0005\n",
    "alpha_max = 10\n",
    "model=0\n",
    "beta = 1"
   ]
  },
  {
   "cell_type": "code",
   "execution_count": 80,
   "metadata": {},
   "outputs": [
    {
     "name": "stdout",
     "output_type": "stream",
     "text": [
      "All nodes were read\n"
     ]
    }
   ],
   "source": [
    "G_true = Init.Load_ground_truth(network_file_name)\n",
    "G_star, DAG_C_dic = Init.Init(cascade_file_name)\n",
    "N = G_true.number_of_nodes()"
   ]
  },
  {
   "cell_type": "code",
   "execution_count": 20,
   "metadata": {},
   "outputs": [
    {
     "name": "stdout",
     "output_type": "stream",
     "text": [
      "All nodes were read\n"
     ]
    }
   ],
   "source": [
    "# G_true = Gen.Generate_random_graph(20,40)\n",
    "# Cascades = Gen.Generate_all_cascades(G_true,-200,window,model,beta)\n",
    "# Gen.Save_cascade_to_file(\"Cascade_test_ADMM.txt\",Cascades,G_true)\n",
    "# Gen.Save_graph_to_file(\"Graph_test_ADMM.txt\",G_true)\n",
    "# G_star,DAG_C_dic = Init.Init(\"Cascade_test_ADMM.txt\")\n",
    "# N = G_true.number_of_nodes()"
   ]
  },
  {
   "cell_type": "code",
   "execution_count": 93,
   "metadata": {},
   "outputs": [],
   "source": [
    "(A_pot,A_bad),num_casc_per_node = cvx.Create_matrices_ADMM(G_true,DAG_C_dic,window)\n",
    "A_hat = np.zeros((N,N))\n",
    "u = 1.3"
   ]
  },
  {
   "cell_type": "markdown",
   "metadata": {},
   "source": [
    "# Start ADMM"
   ]
  },
  {
   "cell_type": "code",
   "execution_count": 115,
   "metadata": {},
   "outputs": [
    {
     "name": "stdout",
     "output_type": "stream",
     "text": [
      "Node :  0\n"
     ]
    },
    {
     "ename": "Exception",
     "evalue": "Cannot evaluate the truth value of a constraint or chain constraints, e.g., 1 >= x >= 0.",
     "output_type": "error",
     "traceback": [
      "\u001b[1;31m---------------------------------------------------------------------------\u001b[0m",
      "\u001b[1;31mException\u001b[0m                                 Traceback (most recent call last)",
      "\u001b[1;32m<ipython-input-115-0a0bdb64ecfe>\u001b[0m in \u001b[0;36m<module>\u001b[1;34m\u001b[0m\n\u001b[0;32m     33\u001b[0m                 \u001b[0mS_0\u001b[0m \u001b[1;33m+=\u001b[0m\u001b[0ma_0\u001b[0m\u001b[1;33m[\u001b[0m\u001b[0mpapa\u001b[0m\u001b[1;33m]\u001b[0m\u001b[1;33m\u001b[0m\u001b[1;33m\u001b[0m\u001b[0m\n\u001b[0;32m     34\u001b[0m         \u001b[0mobj\u001b[0m \u001b[1;33m+=\u001b[0m \u001b[0mrho\u001b[0m\u001b[1;33m[\u001b[0m\u001b[0mcasc\u001b[0m\u001b[1;33m]\u001b[0m\u001b[1;33m*\u001b[0m\u001b[0mtmp\u001b[0m \u001b[1;31m# to do double check the signe\u001b[0m\u001b[1;33m\u001b[0m\u001b[1;33m\u001b[0m\u001b[0m\n\u001b[1;32m---> 35\u001b[1;33m         \u001b[1;32mif\u001b[0m \u001b[1;32mnot\u001b[0m \u001b[0mall\u001b[0m\u001b[1;33m(\u001b[0m\u001b[0ms_i\u001b[0m\u001b[1;33m==\u001b[0m\u001b[1;36m0\u001b[0m \u001b[1;32mfor\u001b[0m \u001b[0ms_i\u001b[0m \u001b[1;32min\u001b[0m \u001b[0mS_admm\u001b[0m\u001b[1;33m)\u001b[0m\u001b[1;33m:\u001b[0m\u001b[1;33m\u001b[0m\u001b[1;33m\u001b[0m\u001b[0m\n\u001b[0m\u001b[0;32m     36\u001b[0m             \u001b[0mobj\u001b[0m \u001b[1;33m+=\u001b[0m \u001b[0mu\u001b[0m\u001b[1;33m/\u001b[0m\u001b[1;36m2\u001b[0m \u001b[1;33m*\u001b[0m \u001b[0mcp\u001b[0m\u001b[1;33m.\u001b[0m\u001b[0mpower\u001b[0m\u001b[1;33m(\u001b[0m\u001b[1;33m(\u001b[0m\u001b[0mS_admm\u001b[0m\u001b[1;33m[\u001b[0m\u001b[0mcasc\u001b[0m\u001b[1;33m]\u001b[0m\u001b[1;33m-\u001b[0m\u001b[0mtmp\u001b[0m\u001b[1;33m)\u001b[0m\u001b[1;33m,\u001b[0m\u001b[1;36m2\u001b[0m\u001b[1;33m)\u001b[0m\u001b[1;33m\u001b[0m\u001b[1;33m\u001b[0m\u001b[0m\n\u001b[0;32m     37\u001b[0m         \u001b[1;32melse\u001b[0m \u001b[1;33m:\u001b[0m\u001b[1;33m\u001b[0m\u001b[1;33m\u001b[0m\u001b[0m\n",
      "\u001b[1;32m~\\Anaconda3\\lib\\site-packages\\cvxpy\\constraints\\constraint.py\u001b[0m in \u001b[0;36m__bool__\u001b[1;34m(self)\u001b[0m\n\u001b[0;32m    215\u001b[0m         \u001b[0mRaising\u001b[0m \u001b[0man\u001b[0m \u001b[0merror\u001b[0m \u001b[0mhere\u001b[0m \u001b[0mprevents\u001b[0m \u001b[0mwriting\u001b[0m \u001b[0mchained\u001b[0m \u001b[0mconstraints\u001b[0m\u001b[1;33m.\u001b[0m\u001b[1;33m\u001b[0m\u001b[1;33m\u001b[0m\u001b[0m\n\u001b[0;32m    216\u001b[0m         \"\"\"\n\u001b[1;32m--> 217\u001b[1;33m         \u001b[1;32mreturn\u001b[0m \u001b[0mself\u001b[0m\u001b[1;33m.\u001b[0m\u001b[0m_chain_constraints\u001b[0m\u001b[1;33m(\u001b[0m\u001b[1;33m)\u001b[0m\u001b[1;33m\u001b[0m\u001b[1;33m\u001b[0m\u001b[0m\n\u001b[0m\u001b[0;32m    218\u001b[0m \u001b[1;33m\u001b[0m\u001b[0m\n\u001b[0;32m    219\u001b[0m     \u001b[1;31m# The value of the dual variable.\u001b[0m\u001b[1;33m\u001b[0m\u001b[1;33m\u001b[0m\u001b[1;33m\u001b[0m\u001b[0m\n",
      "\u001b[1;32m~\\Anaconda3\\lib\\site-packages\\cvxpy\\constraints\\constraint.py\u001b[0m in \u001b[0;36m_chain_constraints\u001b[1;34m(self)\u001b[0m\n\u001b[0;32m    203\u001b[0m         \"\"\"\n\u001b[0;32m    204\u001b[0m         raise Exception(\n\u001b[1;32m--> 205\u001b[1;33m             (\"Cannot evaluate the truth value of a constraint or \"\n\u001b[0m\u001b[0;32m    206\u001b[0m              \"chain constraints, e.g., 1 >= x >= 0.\")\n\u001b[0;32m    207\u001b[0m         )\n",
      "\u001b[1;31mException\u001b[0m: Cannot evaluate the truth value of a constraint or chain constraints, e.g., 1 >= x >= 0."
     ]
    }
   ],
   "source": [
    "t_start_global = time.time()\n",
    "dic_of_obj_per_node_per_iter = {}\n",
    "obj_per_node = []\n",
    "for i in G_true.nodes :\n",
    "    t_start_node_i = time.time()\n",
    "    dic_of_obj_per_node_per_iter[i] = []\n",
    "    try :\n",
    "        cascade_list = num_casc_per_node[i]\n",
    "    except KeyError :\n",
    "        A_hat[:,i] =0\n",
    "        continue\n",
    "    rho = np.ones((len(DAG_C_dic),1))*0.0005\n",
    "    a_0 = np.ones(N)\n",
    "    S_i = np.zeros((len(DAG_C_dic),1))\n",
    "    print(\"Node : \",i)\n",
    "    a_hat = cp.Variable(N)\n",
    "    constr = [a_hat>=0]\n",
    "    S_admm = cp.Parameter(len(DAG_C_dic))\n",
    "    obj = 0\n",
    "    for j in G_true.nodes :\n",
    "        if A_pot[j,i]>0:\n",
    "            obj += a_hat[j]*(A_pot[j,i]+A_bad[j,i]) # to do double check the signe\n",
    "        else :\n",
    "            constr.append(a_hat[j]==0)\n",
    "    for casc in cascade_list : # not sure about this one. It may be DAG_C_dic instead of cascade_list\n",
    "        c = DAG_C_dic[casc]\n",
    "        tmp = 0\n",
    "        S_0 = 0\n",
    "        if i in c.nodes:\n",
    "            parent_i_c = list(c.predecessors(i))\n",
    "            for papa in parent_i_c :\n",
    "                tmp += a_hat[papa]\n",
    "                S_0 +=a_0[papa] \n",
    "        obj += rho[casc]*tmp # to do double check the signe\n",
    "        if not all(s_i==0 for s_i in S_admm):\n",
    "            obj += u/2 * cp.power((S_admm[casc]-tmp),2)\n",
    "        else :\n",
    "            obj += u/2 * cp.power((S_0-tmp),2) # same        \n",
    "    for k in range(0,8) :\n",
    "#         print(\"iteration : \",k)\n",
    "        '''\n",
    "        update alpha_i\n",
    "        '''\n",
    "        S_admm.value = S_i\n",
    "        objf = cp.Minimize(obj)\n",
    "        prob = cp.Problem(objf,constr)\n",
    "        res = prob.solve(warm_start = True)\n",
    "        if prob.status!=\"optimal\":\n",
    "            print(prob.status)\n",
    "        a_k = a_hat.value\n",
    "        for index,alpha in enumerate(a_k):\n",
    "            if alpha<eps:\n",
    "                a_k[index]=eps\n",
    "            if alpha>alpha_max :\n",
    "                a_k[index] = alpha_max\n",
    "        '''\n",
    "        update S_i and rho for each cascades via the closed form formula and the gradient descent respectively\n",
    "        '''\n",
    "        for cascs in DAG_C_dic :\n",
    "            c = DAG_C_dic[cascs]\n",
    "            Malpha = 0\n",
    "            if i in c.nodes :\n",
    "                parent_i_c = list(c.predecessors(i))\n",
    "                for papa in parent_i_c :\n",
    "                    Malpha += a_k[papa]\n",
    "            sqrt_delta = math.sqrt((rho[cascs]+Malpha)**2 + 4*u)\n",
    "            S_i[cascs] = ((rho[cascs]+Malpha)+sqrt_delta)/(2*u)\n",
    "            if S_i[cascs]<0 :\n",
    "                print(\"Huston Huston we have a probleme\")\n",
    "            rho[cascs] = rho[cascs]-u*(S_i[cascs]-Malpha)\n",
    "            \n",
    "        '''compute the objective function for node i in iteration k'''\n",
    "        obj_i_k = 0\n",
    "        for c in DAG_C_dic :\n",
    "            cascade = DAG_C_dic[c]\n",
    "            sum_tmp = 0\n",
    "            for j in cascade.nodes():\n",
    "                t_j = cascade.nodes[j][\"time\"]\n",
    "                if a_k[j]<eps:\n",
    "                        a_k[j]=0\n",
    "                if (j,i) in cascade.edges():\n",
    "                    t_i = cascade.node[i][\"time\"]\n",
    "                    obj_i_k += -a_k[j]*(t_i-t_j)\n",
    "                    if a_k[j]<eps:\n",
    "                        sum_tmp += eps\n",
    "                    else:\n",
    "                        sum_tmp += a_k[j]\n",
    "                if j in cascade.nodes() and i not in cascade.nodes():\n",
    "                    obj_i_k += -a_k[j]*(window-t_j)\n",
    "            if sum_tmp >0:\n",
    "                obj_i_k += math.log(sum_tmp)\n",
    "        dic_of_obj_per_node_per_iter[i].append(obj_i_k)\n",
    "    A_hat[:,i] = a_k\n",
    "    obj_per_node.append(obj_i_k)\n",
    "    print(\"Total objective function value is : \",sum(obj_per_node))\n",
    "    t_end_node_i = time.time()\n",
    "    print(\"computation time for node i : \", t_end_node_i-t_start_node_i)\n",
    "t_end_global = time.time()\n",
    "print(\"total computation time : \",t_end_global-t_start_global) "
   ]
  },
  {
   "cell_type": "code",
   "execution_count": null,
   "metadata": {
    "scrolled": true
   },
   "outputs": [],
   "source": [
    "'''\n",
    "Objective function for node i only\n",
    "'''\n",
    "obj = 0\n",
    "for c in DAG_C_dic :\n",
    "    cascade = DAG_C_dic[c]\n",
    "    sum_tmp = 0\n",
    "    for j in cascade.nodes():\n",
    "        t_j = cascade.nodes[j][\"time\"]\n",
    "        if (j,i) in cascade.edges():\n",
    "            print(A_hat[j,i])\n",
    "            t_i = cascade.node[i][\"time\"]\n",
    "            obj += -A_hat[j,i]*(t_i-t_j)\n",
    "            sum_tmp += A_hat[j,i]\n",
    "        if j in cascade.nodes() and i not in cascade.nodes():\n",
    "            obj += -A_hat[j,i]*(window-t_j)\n",
    "    if sum_tmp !=0:\n",
    "        obj += math.log(sum_tmp)\n",
    "    "
   ]
  },
  {
   "cell_type": "code",
   "execution_count": 95,
   "metadata": {},
   "outputs": [
    {
     "name": "stdout",
     "output_type": "stream",
     "text": [
      "Precision : 0.8348348348348348\n",
      "Recall : 0.695\n",
      "Number of correct infered edges :  278\n",
      "Number of edges in G_hat : 333\n",
      "Number of edges in the true network  400\n"
     ]
    }
   ],
   "source": [
    "'''\n",
    "Precision and recall computation\n",
    "'''\n",
    "correct = 0\n",
    "edge_G_star = list(G_star.edges())\n",
    "G_star.remove_edges_from(edge_G_star)\n",
    "for i in range(0,G_true.number_of_nodes()):\n",
    "    for j in range(0,G_true.number_of_nodes()):\n",
    "        if A_hat[i,j] >eps:\n",
    "            G_star.add_edge(i,j)\n",
    "            if (i,j) in G_true.edges():\n",
    "                correct +=1\n",
    "#                 print(\"edge \",(i,j))\n",
    "#                 print(\"alpha is \",A_hat[i,j])\n",
    "print(\"Precision :\",correct/G_star.number_of_edges())\n",
    "print(\"Recall :\",correct/G_true.number_of_edges())\n",
    "print(\"Number of correct infered edges : \",correct)\n",
    "print(\"Number of edges in G_hat :\",G_star.number_of_edges())\n",
    "print(\"Number of edges in the true network \",G_true.number_of_edges())\n",
    "        "
   ]
  },
  {
   "cell_type": "code",
   "execution_count": 96,
   "metadata": {},
   "outputs": [
    {
     "name": "stdout",
     "output_type": "stream",
     "text": [
      " Mean square error is :  3.3029780456582594\n"
     ]
    }
   ],
   "source": [
    "'''\n",
    "mean square error\n",
    "'''\n",
    "mse = 0\n",
    "nb_correcte_edges=0\n",
    "for edge in G_true.edges():\n",
    "    if edge in G_star.edges():\n",
    "        nb_correcte_edges +=1\n",
    "        try:\n",
    "            true_alpha = G_true.edges[edge][\"weight\"][0]\n",
    "        except TypeError:\n",
    "            true_alpha = G_true.edges[edge][\"weight\"]\n",
    "        approx_alpha = A_hat[edge[0],edge[1]]\n",
    "        mse += pow((true_alpha-approx_alpha),2) # mean square error\n",
    "#         print(\"For edge \" + str(edge)+ \" the true weight is : \" + str(true_alpha))\n",
    "#         print(\"For edge \" + str(edge)+ \" the approx weight is : \" + str(approx_alpha))\n",
    "try :\n",
    "    mse = mse/nb_correcte_edges\n",
    "except ZeroDivisionError:\n",
    "    print (\"There is no correct edge\")\n",
    "print(\" Mean square error is : \",mse)"
   ]
  },
  {
   "cell_type": "code",
   "execution_count": 112,
   "metadata": {},
   "outputs": [
    {
     "name": "stdout",
     "output_type": "stream",
     "text": [
      "node :  40\n"
     ]
    },
    {
     "data": {
      "image/png": "[encoded data removed]",
      "text/plain": [
       "<Figure size 432x288 with 1 Axes>"
      ]
     },
     "metadata": {
      "needs_background": "light"
     },
     "output_type": "display_data"
    }
   ],
   "source": [
    "rand_nod = random.choice(list(G_true.node()))\n",
    "print(\"node : \",rand_nod)\n",
    "last = dic_of_obj_per_node_per_iter[rand_nod][-1]\n",
    "times = [last-x for x in dic_of_obj_per_node_per_iter[rand_nod]]\n",
    "plt.loglog(list(range(0,8)),times)\n",
    "plt.show()"
   ]
  },
  {
   "cell_type": "code",
   "execution_count": 113,
   "metadata": {},
   "outputs": [
    {
     "data": {
      "text/plain": [
       "[<matplotlib.lines.Line2D at 0x2068aebc5c0>]"
      ]
     },
     "execution_count": 113,
     "metadata": {},
     "output_type": "execute_result"
    },
    {
     "data": {
      "image/png": "[encoded data removed]",
      "text/plain": [
       "<Figure size 432x288 with 1 Axes>"
      ]
     },
     "metadata": {
      "needs_background": "light"
     },
     "output_type": "display_data"
    }
   ],
   "source": [
    "plt.plot(list(range(0,8)),dic_of_obj_per_node_per_iter[rand_nod])"
   ]
  }
 ],
 "metadata": {
  "kernelspec": {
   "display_name": "Python 3",
   "language": "python",
   "name": "python3"
  },
  "language_info": {
   "codemirror_mode": {
    "name": "ipython",
    "version": 3
   },
   "file_extension": ".py",
   "mimetype": "text/x-python",
   "name": "python",
   "nbconvert_exporter": "python",
   "pygments_lexer": "ipython3",
   "version": "3.7.1"
  }
 },
 "nbformat": 4,
 "nbformat_minor": 2
}
