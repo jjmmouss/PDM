{
 "cells": [
  {
   "cell_type": "code",
   "execution_count": null,
   "metadata": {},
   "outputs": [],
   "source": [
    "import networkx as nx # version 2.2\n",
    "import matplotlib.pyplot as plt\n",
    "import re\n",
    "import cvxpy as cp\n",
    "import operator #to sort elements in a list of tuples\n",
    "import itertools\n",
    "import math\n",
    "import numpy as np\n",
    "import os\n",
    "import sys\n",
    "import time\n",
    "\n",
    "import Init_NetRate as Init\n",
    "import Cascade_generation_functions_NetRate as Gen\n",
    "import CVX_functions as cvx "
   ]
  },
  {
   "cell_type": "code",
   "execution_count": null,
   "metadata": {},
   "outputs": [],
   "source": [
    "network_file_name = \"./Graph_test_SG.txt\"\n",
    "cascade_file_name = \"./Cascade_test_SG.txt\"\n",
    "window = 10\n",
    "beta = 0.5\n",
    "model = 0"
   ]
  },
  {
   "cell_type": "code",
   "execution_count": null,
   "metadata": {},
   "outputs": [],
   "source": [
    "# G_true = Gen.Generate_random_graph(400,800)\n",
    "# Cascades = Gen.Generate_all_cascades(G_true,-2000,window,model,beta)\n",
    "# Gen.Save_cascade_to_file(\"Cascade_test.txt\",Cascades,G_true)\n",
    "# Gen.Save_graph_to_file(\"Graph_test.txt\",G_true)\n",
    "# G_star,DAG_C_dic = Init.Init(\"Cascade_test.txt\")\n",
    "G_true = Init.Load_ground_truth(network_file_name)\n",
    "G_star, DAG_C_dic = Init.Init(cascade_file_name)"
   ]
  },
  {
   "cell_type": "code",
   "execution_count": null,
   "metadata": {},
   "outputs": [],
   "source": [
    "s_time = time.time()\n",
    "A_list,nb_c_per_node = cvx.Create_matrices(G_true,DAG_C_dic,window)\n",
    "alpha_mat,final_obj_value = cvx.Infer_Network_edges(G_true,A_list,nb_c_per_node,DAG_C_dic)\n",
    "print(\"final_obj_value :\",final_obj_value)\n",
    "f_time = time.time()\n",
    "elapsed_time = f_time-s_time\n",
    "print(elapsed_time)"
   ]
  },
  {
   "cell_type": "code",
   "execution_count": null,
   "metadata": {},
   "outputs": [],
   "source": [
    "'''\n",
    "Precision and recall computation\n",
    "'''\n",
    "correct = 0\n",
    "edge_G_star = list(G_star.edges())\n",
    "G_star.remove_edges_from(edge_G_star)\n",
    "for i in range(0,G_true.number_of_nodes()):\n",
    "    for j in range(0,G_true.number_of_nodes()):\n",
    "        if alpha_mat[i,j] >=1e-2:\n",
    "            G_star.add_edge(i,j)\n",
    "            if (i,j) in G_true.edges():\n",
    "                correct +=1\n",
    "#                 print(\"edge \",(i,j))\n",
    "#                 print(\"alpha is \",A_hat[i,j])\n",
    "print(\"Precision :\",correct/G_star.number_of_edges())\n",
    "print(\"Recall :\",correct/G_true.number_of_edges())\n",
    "print(\"Number of correct infered edges : \",correct)\n",
    "print(\"Number of edges in G_hat :\",G_star.number_of_edges())\n",
    "print(\"Number of edges in the true network \",G_true.number_of_edges())"
   ]
  },
  {
   "cell_type": "code",
   "execution_count": null,
   "metadata": {},
   "outputs": [],
   "source": [
    "'''\n",
    "mean absolute error\n",
    "'''\n",
    "mae = 0\n",
    "nb_correcte_edges=0\n",
    "for edge in G_true.edges():\n",
    "    if edge in G_star.edges():\n",
    "        nb_correcte_edges +=1\n",
    "        true_alpha = G_true.edges[edge][\"weight\"][0]\n",
    "        approx_alpha = alpha_mat[edge[0],edge[1]]\n",
    "        mae += abs(true_alpha-approx_alpha)/true_alpha #normalized mean absolute error\n",
    "#         print(\"For edge \" + str(edge)+ \" the true weight is : \" + str(true_alpha))\n",
    "#         print(\"For edge \" + str(edge)+ \" the approx weight is : \" + str(approx_alpha))\n",
    "try :\n",
    "    mae = mae/nb_correcte_edges\n",
    "except ZeroDivisionError:\n",
    "    print (\"There is no correct edge\")\n",
    "print(\"Normalized mean absolute error is : \",mae)"
   ]
  }
 ],
 "metadata": {
  "kernelspec": {
   "display_name": "Python 3",
   "language": "python",
   "name": "python3"
  },
  "language_info": {
   "codemirror_mode": {
    "name": "ipython",
    "version": 3
   },
   "file_extension": ".py",
   "mimetype": "text/x-python",
   "name": "python",
   "nbconvert_exporter": "python",
   "pygments_lexer": "ipython3",
   "version": "3.7.1"
  }
 },
 "nbformat": 4,
 "nbformat_minor": 2
}
