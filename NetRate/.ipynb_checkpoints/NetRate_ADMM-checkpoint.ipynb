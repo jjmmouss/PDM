{
 "cells": [
  {
   "cell_type": "code",
   "execution_count": 1,
   "metadata": {},
   "outputs": [],
   "source": [
    "import networkx as nx # version 2.2\n",
    "import matplotlib.pyplot as plt\n",
    "import re\n",
    "import cvxpy as cp\n",
    "import operator #to sort elements in a list of tuples\n",
    "import itertools\n",
    "import math\n",
    "import numpy as np\n",
    "import os\n",
    "import sys\n",
    "import time\n",
    "import random\n",
    "\n",
    "import Init_NetRate as Init\n",
    "import cvxpy as cp\n",
    "import Cascade_generation_functions_NetRate as Gen\n",
    "import CVX_functions as cvx"
   ]
  },
  {
   "cell_type": "code",
   "execution_count": 2,
   "metadata": {},
   "outputs": [],
   "source": [
    "network_file_name = \"./Graph_test_SG.txt\"\n",
    "cascade_file_name = \"./Cascade_test_SG.txt\"\n",
    "window = 10\n",
    "eps = 0.0005\n",
    "alpha_max = 10\n",
    "model=0\n",
    "beta = 1\n",
    "iter_ADMM = 10"
   ]
  },
  {
   "cell_type": "code",
   "execution_count": 3,
   "metadata": {},
   "outputs": [
    {
     "name": "stdout",
     "output_type": "stream",
     "text": [
      "All nodes were read\n"
     ]
    }
   ],
   "source": [
    "G_true = Init.Load_ground_truth(network_file_name)\n",
    "G_star, DAG_C_dic = Init.Init(cascade_file_name)\n",
    "N = G_true.number_of_nodes()"
   ]
  },
  {
   "cell_type": "code",
   "execution_count": 5,
   "metadata": {},
   "outputs": [],
   "source": [
    "# G_true = Gen.Generate_random_graph(100,200)\n",
    "# Cascades = Gen.Generate_all_cascades(G_true,-1000,window,model,beta)\n",
    "# Gen.Save_cascade_to_file(\"Cascade_test_ADMM.txt\",Cascades,G_true)\n",
    "# Gen.Save_graph_to_file(\"Graph_test_ADMM.txt\",G_true)\n",
    "# G_star,DAG_C_dic = Init.Init(\"Cascade_test_ADMM.txt\")\n",
    "# N = G_true.number_of_nodes()"
   ]
  },
  {
   "cell_type": "code",
   "execution_count": 4,
   "metadata": {},
   "outputs": [],
   "source": [
    "(A_pot,A_bad),num_casc_per_node = cvx.Create_matrices_ADMM(G_true,DAG_C_dic,window)\n",
    "A_hat = np.zeros((N,N))\n",
    "u = 3\n"
   ]
  },
  {
   "cell_type": "markdown",
   "metadata": {},
   "source": [
    "# Start ADMM"
   ]
  },
  {
   "cell_type": "code",
   "execution_count": 5,
   "metadata": {},
   "outputs": [
    {
     "name": "stdout",
     "output_type": "stream",
     "text": [
      "Node :  0\n",
      "computation time for node i :  4.122870922088623\n",
      "Node :  1\n",
      "computation time for node i :  1.6278679370880127\n",
      "Node :  2\n",
      "computation time for node i :  40.82366704940796\n",
      "Node :  3\n"
     ]
    },
    {
     "ename": "KeyboardInterrupt",
     "evalue": "",
     "output_type": "error",
     "traceback": [
      "\u001b[1;31m---------------------------------------------------------------------------\u001b[0m",
      "\u001b[1;31mKeyboardInterrupt\u001b[0m                         Traceback (most recent call last)",
      "\u001b[1;32m<ipython-input-5-867534470653>\u001b[0m in \u001b[0;36m<module>\u001b[1;34m\u001b[0m\n\u001b[0;32m     52\u001b[0m         \u001b[0mobjf\u001b[0m \u001b[1;33m=\u001b[0m \u001b[0mcp\u001b[0m\u001b[1;33m.\u001b[0m\u001b[0mMinimize\u001b[0m\u001b[1;33m(\u001b[0m\u001b[0mobj\u001b[0m\u001b[1;33m)\u001b[0m\u001b[1;33m\u001b[0m\u001b[1;33m\u001b[0m\u001b[0m\n\u001b[0;32m     53\u001b[0m         \u001b[0mprob\u001b[0m \u001b[1;33m=\u001b[0m \u001b[0mcp\u001b[0m\u001b[1;33m.\u001b[0m\u001b[0mProblem\u001b[0m\u001b[1;33m(\u001b[0m\u001b[0mobjf\u001b[0m\u001b[1;33m,\u001b[0m\u001b[0mconstr\u001b[0m\u001b[1;33m)\u001b[0m\u001b[1;33m\u001b[0m\u001b[1;33m\u001b[0m\u001b[0m\n\u001b[1;32m---> 54\u001b[1;33m         \u001b[0mres\u001b[0m \u001b[1;33m=\u001b[0m \u001b[0mprob\u001b[0m\u001b[1;33m.\u001b[0m\u001b[0msolve\u001b[0m\u001b[1;33m(\u001b[0m\u001b[0mwarm_start\u001b[0m \u001b[1;33m=\u001b[0m \u001b[1;32mTrue\u001b[0m\u001b[1;33m)\u001b[0m\u001b[1;33m\u001b[0m\u001b[1;33m\u001b[0m\u001b[0m\n\u001b[0m\u001b[0;32m     55\u001b[0m         \u001b[1;32mif\u001b[0m \u001b[0mprob\u001b[0m\u001b[1;33m.\u001b[0m\u001b[0mstatus\u001b[0m\u001b[1;33m!=\u001b[0m\u001b[1;34m\"optimal\"\u001b[0m\u001b[1;33m:\u001b[0m\u001b[1;33m\u001b[0m\u001b[1;33m\u001b[0m\u001b[0m\n\u001b[0;32m     56\u001b[0m             \u001b[0mprint\u001b[0m\u001b[1;33m(\u001b[0m\u001b[0mprob\u001b[0m\u001b[1;33m.\u001b[0m\u001b[0mstatus\u001b[0m\u001b[1;33m)\u001b[0m\u001b[1;33m\u001b[0m\u001b[1;33m\u001b[0m\u001b[0m\n",
      "\u001b[1;32m~\\Anaconda3\\lib\\site-packages\\cvxpy\\problems\\problem.py\u001b[0m in \u001b[0;36msolve\u001b[1;34m(self, *args, **kwargs)\u001b[0m\n\u001b[0;32m    269\u001b[0m         \u001b[1;32melse\u001b[0m\u001b[1;33m:\u001b[0m\u001b[1;33m\u001b[0m\u001b[1;33m\u001b[0m\u001b[0m\n\u001b[0;32m    270\u001b[0m             \u001b[0msolve_func\u001b[0m \u001b[1;33m=\u001b[0m \u001b[0mProblem\u001b[0m\u001b[1;33m.\u001b[0m\u001b[0m_solve\u001b[0m\u001b[1;33m\u001b[0m\u001b[1;33m\u001b[0m\u001b[0m\n\u001b[1;32m--> 271\u001b[1;33m         \u001b[1;32mreturn\u001b[0m \u001b[0msolve_func\u001b[0m\u001b[1;33m(\u001b[0m\u001b[0mself\u001b[0m\u001b[1;33m,\u001b[0m \u001b[1;33m*\u001b[0m\u001b[0margs\u001b[0m\u001b[1;33m,\u001b[0m \u001b[1;33m**\u001b[0m\u001b[0mkwargs\u001b[0m\u001b[1;33m)\u001b[0m\u001b[1;33m\u001b[0m\u001b[1;33m\u001b[0m\u001b[0m\n\u001b[0m\u001b[0;32m    272\u001b[0m \u001b[1;33m\u001b[0m\u001b[0m\n\u001b[0;32m    273\u001b[0m     \u001b[1;33m@\u001b[0m\u001b[0mclassmethod\u001b[0m\u001b[1;33m\u001b[0m\u001b[1;33m\u001b[0m\u001b[0m\n",
      "\u001b[1;32m~\\Anaconda3\\lib\\site-packages\\cvxpy\\problems\\problem.py\u001b[0m in \u001b[0;36m_solve\u001b[1;34m(self, solver, warm_start, verbose, parallel, gp, **kwargs)\u001b[0m\n\u001b[0;32m    494\u001b[0m \u001b[1;33m\u001b[0m\u001b[0m\n\u001b[0;32m    495\u001b[0m         \u001b[0mdata\u001b[0m\u001b[1;33m,\u001b[0m \u001b[0msolving_inverse_data\u001b[0m \u001b[1;33m=\u001b[0m\u001b[0;31m \u001b[0m\u001b[0;31m\\\u001b[0m\u001b[1;33m\u001b[0m\u001b[1;33m\u001b[0m\u001b[0m\n\u001b[1;32m--> 496\u001b[1;33m             \u001b[0mself\u001b[0m\u001b[1;33m.\u001b[0m\u001b[0m_solving_chain\u001b[0m\u001b[1;33m.\u001b[0m\u001b[0mapply\u001b[0m\u001b[1;33m(\u001b[0m\u001b[0mself\u001b[0m\u001b[1;33m.\u001b[0m\u001b[0m_intermediate_problem\u001b[0m\u001b[1;33m)\u001b[0m\u001b[1;33m\u001b[0m\u001b[1;33m\u001b[0m\u001b[0m\n\u001b[0m\u001b[0;32m    497\u001b[0m \u001b[1;33m\u001b[0m\u001b[0m\n\u001b[0;32m    498\u001b[0m         solution = self._solving_chain.solve_via_data(self, data,\n",
      "\u001b[1;32m~\\Anaconda3\\lib\\site-packages\\cvxpy\\reductions\\chain.py\u001b[0m in \u001b[0;36mapply\u001b[1;34m(self, problem)\u001b[0m\n\u001b[0;32m     63\u001b[0m         \u001b[0minverse_data\u001b[0m \u001b[1;33m=\u001b[0m \u001b[1;33m[\u001b[0m\u001b[1;33m]\u001b[0m\u001b[1;33m\u001b[0m\u001b[1;33m\u001b[0m\u001b[0m\n\u001b[0;32m     64\u001b[0m         \u001b[1;32mfor\u001b[0m \u001b[0mr\u001b[0m \u001b[1;32min\u001b[0m \u001b[0mself\u001b[0m\u001b[1;33m.\u001b[0m\u001b[0mreductions\u001b[0m\u001b[1;33m:\u001b[0m\u001b[1;33m\u001b[0m\u001b[1;33m\u001b[0m\u001b[0m\n\u001b[1;32m---> 65\u001b[1;33m             \u001b[0mproblem\u001b[0m\u001b[1;33m,\u001b[0m \u001b[0minv\u001b[0m \u001b[1;33m=\u001b[0m \u001b[0mr\u001b[0m\u001b[1;33m.\u001b[0m\u001b[0mapply\u001b[0m\u001b[1;33m(\u001b[0m\u001b[0mproblem\u001b[0m\u001b[1;33m)\u001b[0m\u001b[1;33m\u001b[0m\u001b[1;33m\u001b[0m\u001b[0m\n\u001b[0m\u001b[0;32m     66\u001b[0m             \u001b[0minverse_data\u001b[0m\u001b[1;33m.\u001b[0m\u001b[0mappend\u001b[0m\u001b[1;33m(\u001b[0m\u001b[0minv\u001b[0m\u001b[1;33m)\u001b[0m\u001b[1;33m\u001b[0m\u001b[1;33m\u001b[0m\u001b[0m\n\u001b[0;32m     67\u001b[0m         \u001b[1;32mreturn\u001b[0m \u001b[0mproblem\u001b[0m\u001b[1;33m,\u001b[0m \u001b[0minverse_data\u001b[0m\u001b[1;33m\u001b[0m\u001b[1;33m\u001b[0m\u001b[0m\n",
      "\u001b[1;32m~\\Anaconda3\\lib\\site-packages\\cvxpy\\reductions\\matrix_stuffing.py\u001b[0m in \u001b[0;36mapply\u001b[1;34m(self, problem)\u001b[0m\n\u001b[0;32m     61\u001b[0m         \u001b[1;31m# Form the constraints\u001b[0m\u001b[1;33m\u001b[0m\u001b[1;33m\u001b[0m\u001b[1;33m\u001b[0m\u001b[0m\n\u001b[0;32m     62\u001b[0m         \u001b[0mextractor\u001b[0m \u001b[1;33m=\u001b[0m \u001b[0mCoeffExtractor\u001b[0m\u001b[1;33m(\u001b[0m\u001b[0minverse_data\u001b[0m\u001b[1;33m)\u001b[0m\u001b[1;33m\u001b[0m\u001b[1;33m\u001b[0m\u001b[0m\n\u001b[1;32m---> 63\u001b[1;33m         \u001b[0mnew_obj\u001b[0m\u001b[1;33m,\u001b[0m \u001b[0mnew_var\u001b[0m\u001b[1;33m,\u001b[0m \u001b[0mr\u001b[0m \u001b[1;33m=\u001b[0m \u001b[0mself\u001b[0m\u001b[1;33m.\u001b[0m\u001b[0mstuffed_objective\u001b[0m\u001b[1;33m(\u001b[0m\u001b[0mproblem\u001b[0m\u001b[1;33m,\u001b[0m \u001b[0mextractor\u001b[0m\u001b[1;33m)\u001b[0m\u001b[1;33m\u001b[0m\u001b[1;33m\u001b[0m\u001b[0m\n\u001b[0m\u001b[0;32m     64\u001b[0m         \u001b[0minverse_data\u001b[0m\u001b[1;33m.\u001b[0m\u001b[0mr\u001b[0m \u001b[1;33m=\u001b[0m \u001b[0mr\u001b[0m\u001b[1;33m\u001b[0m\u001b[1;33m\u001b[0m\u001b[0m\n\u001b[0;32m     65\u001b[0m         \u001b[1;31m# Lower equality and inequality to Zero and NonPos.\u001b[0m\u001b[1;33m\u001b[0m\u001b[1;33m\u001b[0m\u001b[1;33m\u001b[0m\u001b[0m\n",
      "\u001b[1;32m~\\Anaconda3\\lib\\site-packages\\cvxpy\\reductions\\qp2quad_form\\qp_matrix_stuffing.py\u001b[0m in \u001b[0;36mstuffed_objective\u001b[1;34m(self, problem, extractor)\u001b[0m\n\u001b[0;32m     47\u001b[0m         \u001b[1;31m# extract to x.T * P * x + q.T * x + r\u001b[0m\u001b[1;33m\u001b[0m\u001b[1;33m\u001b[0m\u001b[1;33m\u001b[0m\u001b[0m\n\u001b[0;32m     48\u001b[0m         \u001b[1;31m# TODO need to copy objective?\u001b[0m\u001b[1;33m\u001b[0m\u001b[1;33m\u001b[0m\u001b[1;33m\u001b[0m\u001b[0m\n\u001b[1;32m---> 49\u001b[1;33m         \u001b[0mP\u001b[0m\u001b[1;33m,\u001b[0m \u001b[0mq\u001b[0m\u001b[1;33m,\u001b[0m \u001b[0mr\u001b[0m \u001b[1;33m=\u001b[0m \u001b[0mextractor\u001b[0m\u001b[1;33m.\u001b[0m\u001b[0mquad_form\u001b[0m\u001b[1;33m(\u001b[0m\u001b[0mproblem\u001b[0m\u001b[1;33m.\u001b[0m\u001b[0mobjective\u001b[0m\u001b[1;33m.\u001b[0m\u001b[0mexpr\u001b[0m\u001b[1;33m)\u001b[0m\u001b[1;33m\u001b[0m\u001b[1;33m\u001b[0m\u001b[0m\n\u001b[0m\u001b[0;32m     50\u001b[0m \u001b[1;33m\u001b[0m\u001b[0m\n\u001b[0;32m     51\u001b[0m         \u001b[1;31m# concatenate all variables in one vector\u001b[0m\u001b[1;33m\u001b[0m\u001b[1;33m\u001b[0m\u001b[1;33m\u001b[0m\u001b[0m\n",
      "\u001b[1;32m~\\Anaconda3\\lib\\site-packages\\cvxpy\\utilities\\coeff_extractor.py\u001b[0m in \u001b[0;36mquad_form\u001b[1;34m(self, expr)\u001b[0m\n\u001b[0;32m    157\u001b[0m         \u001b[1;32mfor\u001b[0m \u001b[0mvar_id\u001b[0m\u001b[1;33m,\u001b[0m \u001b[0moffset\u001b[0m \u001b[1;32min\u001b[0m \u001b[0moffsets\u001b[0m\u001b[1;33m:\u001b[0m\u001b[1;33m\u001b[0m\u001b[1;33m\u001b[0m\u001b[0m\n\u001b[0;32m    158\u001b[0m             \u001b[1;32mif\u001b[0m \u001b[0mvar_id\u001b[0m \u001b[1;32min\u001b[0m \u001b[0mcoeffs\u001b[0m\u001b[1;33m:\u001b[0m\u001b[1;33m\u001b[0m\u001b[1;33m\u001b[0m\u001b[0m\n\u001b[1;32m--> 159\u001b[1;33m                 \u001b[0mP\u001b[0m \u001b[1;33m=\u001b[0m \u001b[0msp\u001b[0m\u001b[1;33m.\u001b[0m\u001b[0mblock_diag\u001b[0m\u001b[1;33m(\u001b[0m\u001b[1;33m[\u001b[0m\u001b[0mP\u001b[0m\u001b[1;33m,\u001b[0m \u001b[0mcoeffs\u001b[0m\u001b[1;33m[\u001b[0m\u001b[0mvar_id\u001b[0m\u001b[1;33m]\u001b[0m\u001b[1;33m[\u001b[0m\u001b[1;34m'P'\u001b[0m\u001b[1;33m]\u001b[0m\u001b[1;33m]\u001b[0m\u001b[1;33m)\u001b[0m\u001b[1;33m\u001b[0m\u001b[1;33m\u001b[0m\u001b[0m\n\u001b[0m\u001b[0;32m    160\u001b[0m                 \u001b[0mq\u001b[0m \u001b[1;33m=\u001b[0m \u001b[0mnp\u001b[0m\u001b[1;33m.\u001b[0m\u001b[0mconcatenate\u001b[0m\u001b[1;33m(\u001b[0m\u001b[1;33m[\u001b[0m\u001b[0mq\u001b[0m\u001b[1;33m,\u001b[0m \u001b[0mcoeffs\u001b[0m\u001b[1;33m[\u001b[0m\u001b[0mvar_id\u001b[0m\u001b[1;33m]\u001b[0m\u001b[1;33m[\u001b[0m\u001b[1;34m'q'\u001b[0m\u001b[1;33m]\u001b[0m\u001b[1;33m]\u001b[0m\u001b[1;33m)\u001b[0m\u001b[1;33m\u001b[0m\u001b[1;33m\u001b[0m\u001b[0m\n\u001b[0;32m    161\u001b[0m             \u001b[1;32melse\u001b[0m\u001b[1;33m:\u001b[0m\u001b[1;33m\u001b[0m\u001b[1;33m\u001b[0m\u001b[0m\n",
      "\u001b[1;32m~\\Anaconda3\\lib\\site-packages\\scipy\\sparse\\construct.py\u001b[0m in \u001b[0;36mblock_diag\u001b[1;34m(mats, format, dtype)\u001b[0m\n\u001b[0;32m    672\u001b[0m             \u001b[0mrow\u001b[0m\u001b[1;33m[\u001b[0m\u001b[0mia\u001b[0m\u001b[1;33m]\u001b[0m \u001b[1;33m=\u001b[0m \u001b[0ma\u001b[0m\u001b[1;33m\u001b[0m\u001b[1;33m\u001b[0m\u001b[0m\n\u001b[0;32m    673\u001b[0m         \u001b[1;32melse\u001b[0m\u001b[1;33m:\u001b[0m\u001b[1;33m\u001b[0m\u001b[1;33m\u001b[0m\u001b[0m\n\u001b[1;32m--> 674\u001b[1;33m             \u001b[0mrow\u001b[0m\u001b[1;33m[\u001b[0m\u001b[0mia\u001b[0m\u001b[1;33m]\u001b[0m \u001b[1;33m=\u001b[0m \u001b[0mcoo_matrix\u001b[0m\u001b[1;33m(\u001b[0m\u001b[0ma\u001b[0m\u001b[1;33m)\u001b[0m\u001b[1;33m\u001b[0m\u001b[1;33m\u001b[0m\u001b[0m\n\u001b[0m\u001b[0;32m    675\u001b[0m         \u001b[0mrows\u001b[0m\u001b[1;33m.\u001b[0m\u001b[0mappend\u001b[0m\u001b[1;33m(\u001b[0m\u001b[0mrow\u001b[0m\u001b[1;33m)\u001b[0m\u001b[1;33m\u001b[0m\u001b[1;33m\u001b[0m\u001b[0m\n\u001b[0;32m    676\u001b[0m     \u001b[1;32mreturn\u001b[0m \u001b[0mbmat\u001b[0m\u001b[1;33m(\u001b[0m\u001b[0mrows\u001b[0m\u001b[1;33m,\u001b[0m \u001b[0mformat\u001b[0m\u001b[1;33m=\u001b[0m\u001b[0mformat\u001b[0m\u001b[1;33m,\u001b[0m \u001b[0mdtype\u001b[0m\u001b[1;33m=\u001b[0m\u001b[0mdtype\u001b[0m\u001b[1;33m)\u001b[0m\u001b[1;33m\u001b[0m\u001b[1;33m\u001b[0m\u001b[0m\n",
      "\u001b[1;32m~\\Anaconda3\\lib\\site-packages\\scipy\\sparse\\coo.py\u001b[0m in \u001b[0;36m__init__\u001b[1;34m(self, arg1, shape, dtype, copy)\u001b[0m\n\u001b[0;32m    190\u001b[0m             \u001b[0mself\u001b[0m\u001b[1;33m.\u001b[0m\u001b[0mdata\u001b[0m \u001b[1;33m=\u001b[0m \u001b[0mself\u001b[0m\u001b[1;33m.\u001b[0m\u001b[0mdata\u001b[0m\u001b[1;33m.\u001b[0m\u001b[0mastype\u001b[0m\u001b[1;33m(\u001b[0m\u001b[0mdtype\u001b[0m\u001b[1;33m,\u001b[0m \u001b[0mcopy\u001b[0m\u001b[1;33m=\u001b[0m\u001b[1;32mFalse\u001b[0m\u001b[1;33m)\u001b[0m\u001b[1;33m\u001b[0m\u001b[1;33m\u001b[0m\u001b[0m\n\u001b[0;32m    191\u001b[0m \u001b[1;33m\u001b[0m\u001b[0m\n\u001b[1;32m--> 192\u001b[1;33m         \u001b[0mself\u001b[0m\u001b[1;33m.\u001b[0m\u001b[0m_check\u001b[0m\u001b[1;33m(\u001b[0m\u001b[1;33m)\u001b[0m\u001b[1;33m\u001b[0m\u001b[1;33m\u001b[0m\u001b[0m\n\u001b[0m\u001b[0;32m    193\u001b[0m \u001b[1;33m\u001b[0m\u001b[0m\n\u001b[0;32m    194\u001b[0m     \u001b[1;32mdef\u001b[0m \u001b[0mreshape\u001b[0m\u001b[1;33m(\u001b[0m\u001b[0mself\u001b[0m\u001b[1;33m,\u001b[0m \u001b[1;33m*\u001b[0m\u001b[0margs\u001b[0m\u001b[1;33m,\u001b[0m \u001b[1;33m**\u001b[0m\u001b[0mkwargs\u001b[0m\u001b[1;33m)\u001b[0m\u001b[1;33m:\u001b[0m\u001b[1;33m\u001b[0m\u001b[1;33m\u001b[0m\u001b[0m\n",
      "\u001b[1;32m~\\Anaconda3\\lib\\site-packages\\scipy\\sparse\\coo.py\u001b[0m in \u001b[0;36m_check\u001b[1;34m(self)\u001b[0m\n\u001b[0;32m    264\u001b[0m \u001b[1;33m\u001b[0m\u001b[0m\n\u001b[0;32m    265\u001b[0m         \u001b[0midx_dtype\u001b[0m \u001b[1;33m=\u001b[0m \u001b[0mget_index_dtype\u001b[0m\u001b[1;33m(\u001b[0m\u001b[0mmaxval\u001b[0m\u001b[1;33m=\u001b[0m\u001b[0mmax\u001b[0m\u001b[1;33m(\u001b[0m\u001b[0mself\u001b[0m\u001b[1;33m.\u001b[0m\u001b[0mshape\u001b[0m\u001b[1;33m)\u001b[0m\u001b[1;33m)\u001b[0m\u001b[1;33m\u001b[0m\u001b[1;33m\u001b[0m\u001b[0m\n\u001b[1;32m--> 266\u001b[1;33m         \u001b[0mself\u001b[0m\u001b[1;33m.\u001b[0m\u001b[0mrow\u001b[0m \u001b[1;33m=\u001b[0m \u001b[0mnp\u001b[0m\u001b[1;33m.\u001b[0m\u001b[0masarray\u001b[0m\u001b[1;33m(\u001b[0m\u001b[0mself\u001b[0m\u001b[1;33m.\u001b[0m\u001b[0mrow\u001b[0m\u001b[1;33m,\u001b[0m \u001b[0mdtype\u001b[0m\u001b[1;33m=\u001b[0m\u001b[0midx_dtype\u001b[0m\u001b[1;33m)\u001b[0m\u001b[1;33m\u001b[0m\u001b[1;33m\u001b[0m\u001b[0m\n\u001b[0m\u001b[0;32m    267\u001b[0m         \u001b[0mself\u001b[0m\u001b[1;33m.\u001b[0m\u001b[0mcol\u001b[0m \u001b[1;33m=\u001b[0m \u001b[0mnp\u001b[0m\u001b[1;33m.\u001b[0m\u001b[0masarray\u001b[0m\u001b[1;33m(\u001b[0m\u001b[0mself\u001b[0m\u001b[1;33m.\u001b[0m\u001b[0mcol\u001b[0m\u001b[1;33m,\u001b[0m \u001b[0mdtype\u001b[0m\u001b[1;33m=\u001b[0m\u001b[0midx_dtype\u001b[0m\u001b[1;33m)\u001b[0m\u001b[1;33m\u001b[0m\u001b[1;33m\u001b[0m\u001b[0m\n\u001b[0;32m    268\u001b[0m         \u001b[0mself\u001b[0m\u001b[1;33m.\u001b[0m\u001b[0mdata\u001b[0m \u001b[1;33m=\u001b[0m \u001b[0mto_native\u001b[0m\u001b[1;33m(\u001b[0m\u001b[0mself\u001b[0m\u001b[1;33m.\u001b[0m\u001b[0mdata\u001b[0m\u001b[1;33m)\u001b[0m\u001b[1;33m\u001b[0m\u001b[1;33m\u001b[0m\u001b[0m\n",
      "\u001b[1;32m~\\Anaconda3\\lib\\site-packages\\numpy\\core\\numeric.py\u001b[0m in \u001b[0;36masarray\u001b[1;34m(a, dtype, order)\u001b[0m\n\u001b[0;32m    499\u001b[0m \u001b[1;33m\u001b[0m\u001b[0m\n\u001b[0;32m    500\u001b[0m     \"\"\"\n\u001b[1;32m--> 501\u001b[1;33m     \u001b[1;32mreturn\u001b[0m \u001b[0marray\u001b[0m\u001b[1;33m(\u001b[0m\u001b[0ma\u001b[0m\u001b[1;33m,\u001b[0m \u001b[0mdtype\u001b[0m\u001b[1;33m,\u001b[0m \u001b[0mcopy\u001b[0m\u001b[1;33m=\u001b[0m\u001b[1;32mFalse\u001b[0m\u001b[1;33m,\u001b[0m \u001b[0morder\u001b[0m\u001b[1;33m=\u001b[0m\u001b[0morder\u001b[0m\u001b[1;33m)\u001b[0m\u001b[1;33m\u001b[0m\u001b[1;33m\u001b[0m\u001b[0m\n\u001b[0m\u001b[0;32m    502\u001b[0m \u001b[1;33m\u001b[0m\u001b[0m\n\u001b[0;32m    503\u001b[0m \u001b[1;33m\u001b[0m\u001b[0m\n",
      "\u001b[1;31mKeyboardInterrupt\u001b[0m: "
     ]
    }
   ],
   "source": [
    "t_start_global = time.time()\n",
    "dic_of_obj_per_node_per_iter = {}\n",
    "obj_per_node = []\n",
    "for i in G_true.nodes :\n",
    "    t_start_node_i = time.time()\n",
    "    dic_of_obj_per_node_per_iter[i] = []\n",
    "    try :\n",
    "        cascade_list = num_casc_per_node[i]\n",
    "    except KeyError :\n",
    "        A_hat[:,i] =0\n",
    "        continue\n",
    "#     rho = np.ones((len(DAG_C_dic),1))*0.0005\n",
    "    rho = np.zeros((len(DAG_C_dic),1))\n",
    "    a_0 = np.ones(N)\n",
    "    S_i = np.zeros((len(DAG_C_dic),1))\n",
    "    S_init = np.zeros((len(DAG_C_dic),1))\n",
    "    print(\"Node : \",i)\n",
    "    a_hat = cp.Variable(N)\n",
    "    constr = [a_hat>=0]\n",
    "    S_admm = cp.Parameter((len(DAG_C_dic),1))\n",
    "    rho_admm = cp.Parameter((len(DAG_C_dic),1))\n",
    "    \n",
    "    #Compute objective function \n",
    "    obj = 0\n",
    "    for j in G_true.nodes :\n",
    "        if A_pot[j,i]>0:\n",
    "            obj += a_hat[j]*(A_pot[j,i]+A_bad[j,i]) # to do double check the signe\n",
    "        else :\n",
    "            constr.append(a_hat[j]==0)\n",
    "    for casc in cascade_list : # not sure about this one. It may be DAG_C_dic instead of cascade_list\n",
    "        c = DAG_C_dic[casc]\n",
    "        tmp = 0\n",
    "        S_0 = 0\n",
    "        if i in c.nodes:\n",
    "            parent_i_c = list(c.predecessors(i))\n",
    "            for papa in parent_i_c :\n",
    "                tmp += a_hat[papa]\n",
    "                S_init[casc] +=a_0[papa] \n",
    "        obj += rho_admm[casc]*tmp # to do double check the signe\n",
    "        obj += u/2 * cp.power((S_admm[casc]-tmp),2)       \n",
    "   \n",
    "    #Start iteration of ADMM\n",
    "    for k in range(0,iter_ADMM) :\n",
    "        if k!=0 :\n",
    "            S_admm.value = S_i\n",
    "        else :\n",
    "            S_admm.value = S_init #Initial value of S\n",
    "        rho_admm.value = rho\n",
    "        '''\n",
    "        update alpha_i\n",
    "        '''\n",
    "        objf = cp.Minimize(obj)\n",
    "        prob = cp.Problem(objf,constr)\n",
    "        res = prob.solve(warm_start = True)\n",
    "        if prob.status!=\"optimal\":\n",
    "            print(prob.status)\n",
    "        a_k = a_hat.value\n",
    "        for index,alpha in enumerate(a_k):\n",
    "            if alpha<0:\n",
    "                a_k[index]=0\n",
    "            if alpha>alpha_max :\n",
    "                a_k[index] = alpha_max\n",
    "        '''\n",
    "        update S_i and rho for each cascades via the closed form formula and the gradient descent respectively\n",
    "        '''\n",
    "        for cascs in DAG_C_dic :\n",
    "            c = DAG_C_dic[cascs]\n",
    "            Malpha = 0\n",
    "            if i in c.nodes :\n",
    "                parent_i_c = list(c.predecessors(i))\n",
    "                for papa in parent_i_c :\n",
    "                    Malpha += a_k[papa]\n",
    "            sqrt_delta = math.sqrt((rho[cascs]+u*Malpha)**2 + 4*u)\n",
    "            S_i[cascs] = ((rho[cascs]+u*Malpha)+sqrt_delta)/(2*u)\n",
    "            if S_i[cascs]<0 :\n",
    "                print(\"Huston Huston we have a probleme\")\n",
    "            rho[cascs] = rho[cascs]-u*(S_i[cascs]-Malpha)\n",
    "            \n",
    "#         '''compute the objective function for node i in iteration k'''\n",
    "#         obj_i_k = 0\n",
    "#         for c in DAG_C_dic :\n",
    "#             cascade = DAG_C_dic[c]\n",
    "#             sum_tmp = 0\n",
    "#             for j in cascade.nodes():\n",
    "#                 t_j = cascade.nodes[j][\"time\"]\n",
    "#                 if a_k[j]<0:\n",
    "#                         a_k[j]=0\n",
    "#                 if (j,i) in cascade.edges():\n",
    "#                     t_i = cascade.node[i][\"time\"]\n",
    "#                     obj_i_k += -a_k[j]*(t_i-t_j)\n",
    "#                     if a_k[j]<eps:\n",
    "#                         sum_tmp += eps\n",
    "#                     else:\n",
    "#                         sum_tmp += a_k[j]\n",
    "                    \n",
    "#                 if j in cascade.nodes() and i not in cascade.nodes():\n",
    "#                     obj_i_k += -a_k[j]*(window-t_j)\n",
    "#             if sum_tmp >0:\n",
    "#                 obj_i_k += math.log(sum_tmp)\n",
    "#         dic_of_obj_per_node_per_iter[i].append(obj_i_k)\n",
    "    A_hat[:,i] = a_k\n",
    "#     obj_per_node.append(obj_i_k)\n",
    "#     print(\"Total objective function value is : \",sum(obj_per_node))\n",
    "    t_end_node_i = time.time()\n",
    "    print(\"computation time for node i : \", t_end_node_i-t_start_node_i)\n",
    "t_end_global = time.time()\n",
    "print(\"total computation time : \",t_end_global-t_start_global) "
   ]
  },
  {
   "cell_type": "code",
   "execution_count": 43,
   "metadata": {},
   "outputs": [
    {
     "name": "stdout",
     "output_type": "stream",
     "text": [
      "Precision : 0.9821428571428571\n",
      "Recall : 0.1375\n",
      "Number of correct infered edges :  55\n",
      "Number of edges in G_hat : 56\n",
      "Number of edges in the true network  400\n"
     ]
    }
   ],
   "source": [
    "'''\n",
    "Precision and recall computation\n",
    "'''\n",
    "correct = 0\n",
    "edge_G_star = list(G_star.edges())\n",
    "G_star.remove_edges_from(edge_G_star)\n",
    "for i in range(0,G_true.number_of_nodes()):\n",
    "    for j in range(0,G_true.number_of_nodes()):\n",
    "        if A_hat[i,j] >eps:\n",
    "            G_star.add_edge(i,j)\n",
    "            if (i,j) in G_true.edges():\n",
    "                correct +=1\n",
    "#                 print(\"edge \",(i,j))\n",
    "#                 print(\"alpha is \",A_hat[i,j])\n",
    "print(\"Precision :\",correct/G_star.number_of_edges())\n",
    "print(\"Recall :\",correct/G_true.number_of_edges())\n",
    "print(\"Number of correct infered edges : \",correct)\n",
    "print(\"Number of edges in G_hat :\",G_star.number_of_edges())\n",
    "print(\"Number of edges in the true network \",G_true.number_of_edges())\n",
    "        "
   ]
  },
  {
   "cell_type": "code",
   "execution_count": 28,
   "metadata": {},
   "outputs": [
    {
     "name": "stdout",
     "output_type": "stream",
     "text": [
      " Mean square error is :  0.11145405138086772\n"
     ]
    }
   ],
   "source": [
    "'''\n",
    "mean square error\n",
    "'''\n",
    "mse = 0\n",
    "nb_correcte_edges=0\n",
    "for edge in G_true.edges():\n",
    "    if edge in G_star.edges():\n",
    "        nb_correcte_edges +=1\n",
    "        try:\n",
    "            true_alpha = G_true.edges[edge][\"weight\"][0]\n",
    "        except TypeError:\n",
    "            true_alpha = G_true.edges[edge][\"weight\"]\n",
    "        approx_alpha = A_hat[edge[0],edge[1]]\n",
    "        mse += pow((true_alpha-approx_alpha),2) # mean square error\n",
    "#         print(\"For edge \" + str(edge)+ \" the true weight is : \" + str(true_alpha))\n",
    "#         print(\"For edge \" + str(edge)+ \" the approx weight is : \" + str(approx_alpha))\n",
    "try :\n",
    "    mse = mse/nb_correcte_edges\n",
    "except ZeroDivisionError:\n",
    "    print (\"There is no correct edge\")\n",
    "print(\" Mean square error is : \",mse)"
   ]
  },
  {
   "cell_type": "code",
   "execution_count": 19,
   "metadata": {},
   "outputs": [
    {
     "name": "stdout",
     "output_type": "stream",
     "text": [
      "node :  62\n"
     ]
    },
    {
     "data": {
      "image/png": "[encoded data removed]",
      "text/plain": [
       "<Figure size 432x288 with 1 Axes>"
      ]
     },
     "metadata": {
      "needs_background": "light"
     },
     "output_type": "display_data"
    },
    {
     "data": {
      "image/png": "[encoded data removed]",
      "text/plain": [
       "<Figure size 432x288 with 1 Axes>"
      ]
     },
     "metadata": {
      "needs_background": "light"
     },
     "output_type": "display_data"
    }
   ],
   "source": [
    "rand_nod = random.choice(list(G_true.node()))\n",
    "print(\"node : \",rand_nod)\n",
    "last = dic_of_obj_per_node_per_iter[rand_nod][-1]\n",
    "times = [last-x for x in dic_of_obj_per_node_per_iter[rand_nod]]\n",
    "plt.loglog(list(range(1,iter_ADMM+1)),times)\n",
    "plt.show()\n",
    "plt.plot(list(range(1,iter_ADMM+1)),dic_of_obj_per_node_per_iter[rand_nod])\n",
    "plt.show()"
   ]
  },
  {
   "cell_type": "code",
   "execution_count": 99,
   "metadata": {},
   "outputs": [
    {
     "data": {
      "text/plain": [
       "[<matplotlib.lines.Line2D at 0x248d393b7b8>]"
      ]
     },
     "execution_count": 99,
     "metadata": {},
     "output_type": "execute_result"
    },
    {
     "data": {
      "image/png": "[encoded data removed]",
      "text/plain": [
       "<Figure size 432x288 with 1 Axes>"
      ]
     },
     "metadata": {
      "needs_background": "light"
     },
     "output_type": "display_data"
    }
   ],
   "source": []
  }
 ],
 "metadata": {
  "kernelspec": {
   "display_name": "Python 3",
   "language": "python",
   "name": "python3"
  },
  "language_info": {
   "codemirror_mode": {
    "name": "ipython",
    "version": 3
   },
   "file_extension": ".py",
   "mimetype": "text/x-python",
   "name": "python",
   "nbconvert_exporter": "python",
   "pygments_lexer": "ipython3",
   "version": "3.7.1"
  }
 },
 "nbformat": 4,
 "nbformat_minor": 2
}
