{
 "cells": [
  {
   "cell_type": "code",
   "execution_count": 1,
   "metadata": {},
   "outputs": [],
   "source": [
    "import networkx as nx # version 2.2\n",
    "import matplotlib.pyplot as plt\n",
    "import re\n",
    "import cvxpy as cp\n",
    "import operator #to sort elements in a list of tuples\n",
    "import itertools\n",
    "import math\n",
    "import numpy as np\n",
    "import os\n",
    "import sys\n",
    "import time\n",
    "import random\n",
    "\n",
    "import Init_NetRate as Init\n",
    "import cvxpy as cp\n",
    "import Cascade_generation_functions_NetRate as Gen\n",
    "import CVX_functions as cvx"
   ]
  },
  {
   "cell_type": "code",
   "execution_count": 2,
   "metadata": {},
   "outputs": [],
   "source": [
    "'''\n",
    "Create the matrix Mi for the ADMM method\n",
    "\n",
    "Each cell k,l in Mi is one if in cascade k node l infected node i, 0 otherwise\n",
    "\n",
    "Input :\n",
    "    cascade_dic : a dictionnary of all cascade (in a graph object, DAG)\n",
    "    node : an int describing which node we are considering in the ADMM iteration\n",
    "    number_of_nodes : number of nodes in the underlying network (we assume that rhe union of all cascades cover all the nodes)\n",
    "'''\n",
    "def Create_matrix_Mi_and_Ti(cascade_dic,node,number_of_nodes,window) : \n",
    "    M_i = np.zeros((len(cascade_dic),number_of_nodes))\n",
    "    T_i = np.zeros((len(cascade_dic),number_of_nodes))\n",
    "    for cascade in cascade_dic :\n",
    "        c = cascade_dic[cascade] # graph object\n",
    "        if node in c.nodes():\n",
    "            t_i = c.node[node][\"time\"]\n",
    "            parent_list = list(c.predecessors(node)) # create a list of all nodes (int) that where infected before node i in the cascade\n",
    "            for parent in parent_list :\n",
    "                t_parent = c.node[parent][\"time\"]\n",
    "                M_i[cascade,parent] = 1\n",
    "                T_i[cascade,parent] = -(t_i-t_parent)\n",
    "                if (t_i-t_parent)<=0:\n",
    "                    print(\"Time error, the flow of time is reversed the world'send is near\")\n",
    "        else :\n",
    "            for j in c.nodes() :\n",
    "                t_j = c.node[j][\"time\"]\n",
    "                T_i[cascade,j] = -(window-t_j) # check if + or -\n",
    "                \n",
    "    return M_i,T_i"
   ]
  },
  {
   "cell_type": "code",
   "execution_count": 3,
   "metadata": {},
   "outputs": [],
   "source": [
    "network_file_name = \"./Graph_test_SG.txt\"\n",
    "cascade_file_name = \"./Cascade_test_SG.txt\"\n",
    "window = 10\n",
    "model=0 # not important but needed. When constructing the underlying network specify that we use the exponential law\n",
    "beta = 1 # used for the construction of the cascades\n",
    "eps = 0.0005\n",
    "alpha_max = 10\n",
    "iter_ADMM = 10 #number of itteration for 1 node in the ADMM method. This is a parameter to tune\n",
    "iter_GD = 1000\n",
    "gamma = 0.0005 # Learning rate of the GD for alpha"
   ]
  },
  {
   "cell_type": "code",
   "execution_count": 7,
   "metadata": {},
   "outputs": [
    {
     "name": "stdout",
     "output_type": "stream",
     "text": [
      "All nodes were read\n"
     ]
    }
   ],
   "source": [
    "# G_true = Init.Load_ground_truth(network_file_name)\n",
    "# G_star, DAG_C_dic = Init.Init(cascade_file_name)\n",
    "# N = G_true.number_of_nodes()\n",
    "\n",
    "G_true = Gen.Generate_random_graph(10,20)\n",
    "Cascades = Gen.Generate_all_cascades(G_true,-100,window,model,beta)\n",
    "Gen.Save_cascade_to_file(\"Cascade_test_ADMM.txt\",Cascades,G_true)\n",
    "Gen.Save_graph_to_file(\"Graph_test_ADMM.txt\",G_true)\n",
    "G_star,DAG_C_dic = Init.Init(\"Cascade_test_ADMM.txt\")\n",
    "N = G_true.number_of_nodes()"
   ]
  },
  {
   "cell_type": "code",
   "execution_count": null,
   "metadata": {},
   "outputs": [],
   "source": []
  },
  {
   "cell_type": "code",
   "execution_count": 8,
   "metadata": {},
   "outputs": [],
   "source": [
    "# (A_pot,A_bad),num_casc_per_node = cvx.Create_matrices_ADMM(G_true,DAG_C_dic,window)\n",
    "A_hat = np.zeros((N,N))\n",
    "u = 3 # used for the gradient descent of rho and as a penalizer and the constrain\n"
   ]
  },
  {
   "cell_type": "code",
   "execution_count": 9,
   "metadata": {},
   "outputs": [
    {
     "name": "stdout",
     "output_type": "stream",
     "text": [
      "Node :  0\n",
      "computation time for node i :  0.09430384635925293\n",
      "Node :  1\n",
      "computation time for node i :  0.06861472129821777\n",
      "Node :  2\n",
      "computation time for node i :  0.09805488586425781\n",
      "Node :  3\n",
      "computation time for node i :  0.07810664176940918\n",
      "Node :  4\n",
      "computation time for node i :  0.07810664176940918\n",
      "Node :  5\n",
      "computation time for node i :  0.10137820243835449\n",
      "Node :  6\n",
      "computation time for node i :  0.11170268058776855\n",
      "Node :  7\n",
      "computation time for node i :  0.12366819381713867\n",
      "Node :  8\n",
      "computation time for node i :  0.13463973999023438\n",
      "Node :  9\n",
      "computation time for node i :  0.1226813793182373\n",
      "total computation time :  1.01423978805542\n"
     ]
    }
   ],
   "source": [
    "t_start_global = time.time()\n",
    "dic_of_obj_per_node_per_iter = {}\n",
    "obj_per_node = []\n",
    "for i in G_true.nodes :\n",
    "    print(\"Node : \",i)\n",
    "    t_start_node_i = time.time()\n",
    "    dic_of_obj_per_node_per_iter[i] = []\n",
    "#     try :\n",
    "#         cascade_list = num_casc_per_node[i]\n",
    "#     except KeyError : # node i was present in no cascade hence all there should be no edge connection to it\n",
    "#         A_hat[:,i] =0\n",
    "#         continue\n",
    "    \n",
    "    \n",
    "    '''\n",
    "    initialization\n",
    "    '''\n",
    "    a_k = np.random.rand(N,1)\n",
    "    z = np.random.rand(N,1)\n",
    "    rho = np.zeros((len(DAG_C_dic),1)) \n",
    "    M_i,T_i = Create_matrix_Mi_and_Ti(DAG_C_dic,i,N,window) # TO do : consider to use sparse matrix\n",
    "    S_i = np.matmul(M_i,z)  \n",
    "    grad_i = (np.sum(T_i,axis=0).T)\n",
    "    \n",
    "    \n",
    "    #Start iteration of ADMM\n",
    "    for k in range(0,iter_ADMM) :\n",
    "        '''\n",
    "        Update alpha using gradient descent\n",
    "        '''\n",
    "        grad = grad_i + np.matmul(rho.T,M_i) # check if + or -\n",
    "        for j in range(0,iter_GD):\n",
    "\n",
    "            grad_j = grad - u*(np.matmul(M_i.T,(S_i-np.matmul(M_i,a_k))).T) # check sign\n",
    "            a_k = a_k + gamma*grad_j.T\n",
    "            a_k = np.maximum(a_k,eps)\n",
    "            a_k = np.minimum(a_k,alpha_max)\n",
    "        '''\n",
    "        update S_i and rho for each cascades via the closed form formula and the gradient descent respectively\n",
    "        '''\n",
    "        for cascs in DAG_C_dic :\n",
    "            c = DAG_C_dic[cascs]\n",
    "            Malpha = 0\n",
    "            if i in c.nodes :\n",
    "                parent_i_c = list(c.predecessors(i))\n",
    "                for papa in parent_i_c :\n",
    "                    Malpha += a_k[papa]\n",
    "            sqrt_delta = math.sqrt((rho[cascs]+Malpha)**2 + 4*u)\n",
    "            S_i[cascs] = ((rho[cascs]+Malpha)+sqrt_delta)/(2*u)\n",
    "            if S_i[cascs]<0 :\n",
    "                print(\"Huston Huston we have a probleme\")\n",
    "            rho[cascs] = rho[cascs]-u*(S_i[cascs]-Malpha)\n",
    "            \n",
    "#         '''compute the objective function for node i in iteration k'''\n",
    "#         obj_i_k = 0\n",
    "#         for c in DAG_C_dic :\n",
    "#             cascade = DAG_C_dic[c]\n",
    "#             sum_tmp = 0\n",
    "#             for j in cascade.nodes():\n",
    "#                 t_j = cascade.nodes[j][\"time\"]\n",
    "#                 if a_k[j]<eps:\n",
    "#                         a_k[j]=0\n",
    "#                 if (j,i) in cascade.edges():\n",
    "#                     t_i = cascade.node[i][\"time\"]\n",
    "#                     obj_i_k += -a_k[j]*(t_i-t_j)\n",
    "# #                     if a_k[j]<eps:\n",
    "# #                         sum_tmp += eps\n",
    "# #                     else:\n",
    "# #                         sum_tmp += a_k[j]\n",
    "#                     sum_tmp += a_k[j]\n",
    "#                 if j in cascade.nodes() and i not in cascade.nodes():\n",
    "#                     obj_i_k += -a_k[j]*(window-t_j)\n",
    "#             if sum_tmp >0:\n",
    "#                 obj_i_k += math.log(sum_tmp)\n",
    "#         dic_of_obj_per_node_per_iter[i].append(obj_i_k)\n",
    "    A_hat[:,i] = a_k.flatten()\n",
    "#     obj_per_node.append(obj_i_k)\n",
    "#     print(\"Total objective function value is : \",sum(obj_per_node))\n",
    "    t_end_node_i = time.time()\n",
    "    print(\"computation time for node i : \", t_end_node_i-t_start_node_i)\n",
    "t_end_global = time.time()\n",
    "print(\"total computation time : \",t_end_global-t_start_global) "
   ]
  },
  {
   "cell_type": "code",
   "execution_count": 11,
   "metadata": {},
   "outputs": [
    {
     "name": "stdout",
     "output_type": "stream",
     "text": [
      "Precision : 0.0\n",
      "Recall : 0.0\n",
      "Number of correct infered edges :  0\n",
      "Number of edges in G_hat : 10\n",
      "Number of edges in the true network  20\n"
     ]
    }
   ],
   "source": [
    "'''\n",
    "Precision and recall computation\n",
    "'''\n",
    "correct = 0\n",
    "edge_G_star = list(G_star.edges())\n",
    "G_star.remove_edges_from(edge_G_star)\n",
    "for i in range(0,G_true.number_of_nodes()):\n",
    "    for j in range(0,G_true.number_of_nodes()):\n",
    "        if A_hat[i,j] >eps:\n",
    "            G_star.add_edge(i,j)\n",
    "            if (i,j) in G_true.edges():\n",
    "                correct +=1\n",
    "#                 print(\"edge \",(i,j))\n",
    "#                 print(\"alpha is \",A_hat[i,j])\n",
    "print(\"Precision :\",correct/G_star.number_of_edges())\n",
    "print(\"Recall :\",correct/G_true.number_of_edges())\n",
    "print(\"Number of correct infered edges : \",correct)\n",
    "print(\"Number of edges in G_hat :\",G_star.number_of_edges())\n",
    "print(\"Number of edges in the true network \",G_true.number_of_edges())\n",
    "        "
   ]
  },
  {
   "cell_type": "code",
   "execution_count": 10,
   "metadata": {},
   "outputs": [
    {
     "data": {
      "text/plain": [
       "array([[3.63206378e-01, 5.00000000e-04, 5.00000000e-04, 5.00000000e-04,\n",
       "        5.00000000e-04, 5.00000000e-04, 5.00000000e-04, 5.00000000e-04,\n",
       "        5.00000000e-04, 5.00000000e-04],\n",
       "       [5.00000000e-04, 2.42439789e-01, 5.00000000e-04, 5.00000000e-04,\n",
       "        5.00000000e-04, 5.00000000e-04, 5.00000000e-04, 5.00000000e-04,\n",
       "        5.00000000e-04, 5.00000000e-04],\n",
       "       [5.00000000e-04, 5.00000000e-04, 4.84592102e-01, 5.00000000e-04,\n",
       "        5.00000000e-04, 5.00000000e-04, 5.00000000e-04, 5.00000000e-04,\n",
       "        5.00000000e-04, 5.00000000e-04],\n",
       "       [5.00000000e-04, 5.00000000e-04, 5.00000000e-04, 8.18937043e-02,\n",
       "        5.00000000e-04, 5.00000000e-04, 5.00000000e-04, 5.00000000e-04,\n",
       "        5.00000000e-04, 5.00000000e-04],\n",
       "       [5.00000000e-04, 5.00000000e-04, 5.00000000e-04, 5.00000000e-04,\n",
       "        3.51180949e-01, 5.00000000e-04, 5.00000000e-04, 5.00000000e-04,\n",
       "        5.00000000e-04, 5.00000000e-04],\n",
       "       [5.00000000e-04, 5.00000000e-04, 5.00000000e-04, 5.00000000e-04,\n",
       "        5.00000000e-04, 1.47641853e-02, 5.00000000e-04, 5.00000000e-04,\n",
       "        5.00000000e-04, 5.00000000e-04],\n",
       "       [5.00000000e-04, 5.00000000e-04, 5.00000000e-04, 5.00000000e-04,\n",
       "        5.00000000e-04, 5.00000000e-04, 5.75678946e-01, 5.00000000e-04,\n",
       "        5.00000000e-04, 5.00000000e-04],\n",
       "       [5.00000000e-04, 5.00000000e-04, 5.00000000e-04, 5.00000000e-04,\n",
       "        5.00000000e-04, 5.00000000e-04, 5.00000000e-04, 1.51689352e-01,\n",
       "        5.00000000e-04, 5.00000000e-04],\n",
       "       [5.00000000e-04, 5.00000000e-04, 5.00000000e-04, 5.00000000e-04,\n",
       "        5.00000000e-04, 5.00000000e-04, 5.00000000e-04, 5.00000000e-04,\n",
       "        9.88437746e-01, 5.00000000e-04],\n",
       "       [5.00000000e-04, 5.00000000e-04, 5.00000000e-04, 5.00000000e-04,\n",
       "        5.00000000e-04, 5.00000000e-04, 5.00000000e-04, 5.00000000e-04,\n",
       "        5.00000000e-04, 3.92705317e-01]])"
      ]
     },
     "execution_count": 10,
     "metadata": {},
     "output_type": "execute_result"
    }
   ],
   "source": [
    "A_hat"
   ]
  }
 ],
 "metadata": {
  "kernelspec": {
   "display_name": "Python 3",
   "language": "python",
   "name": "python3"
  },
  "language_info": {
   "codemirror_mode": {
    "name": "ipython",
    "version": 3
   },
   "file_extension": ".py",
   "mimetype": "text/x-python",
   "name": "python",
   "nbconvert_exporter": "python",
   "pygments_lexer": "ipython3",
   "version": "3.7.1"
  }
 },
 "nbformat": 4,
 "nbformat_minor": 2
}
