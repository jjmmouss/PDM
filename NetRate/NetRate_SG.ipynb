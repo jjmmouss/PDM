{
 "cells": [
  {
   "cell_type": "code",
   "execution_count": 1,
   "metadata": {},
   "outputs": [],
   "source": [
    "import networkx as nx # version 2.2\n",
    "import matplotlib.pyplot as plt\n",
    "import re\n",
    "import cvxpy as cp\n",
    "import operator #to sort elements in a list of tuples\n",
    "import itertools\n",
    "import math\n",
    "import numpy as np\n",
    "import os\n",
    "import sys\n",
    "import time\n",
    "\n",
    "import Init_NetRate as Init\n",
    "import Cascade_generation_functions_NetRate as Gen"
   ]
  },
  {
   "cell_type": "code",
   "execution_count": 2,
   "metadata": {},
   "outputs": [],
   "source": [
    "network_file_name = \"./../NetInf_mycode/Generation_files/Gen_1_SG/G_1.txt\"\n",
    "cascade_file_name = \"./../NetInf_mycode/Generation_files/Gen_1_SG/C_1.txt\"\n",
    "window = 10\n",
    "beta = 0.5\n",
    "model = 0\n",
    "eps = 1e-7\n",
    "rho = 0.95\n",
    "gamma = 0.001 #step size\n"
   ]
  },
  {
   "cell_type": "code",
   "execution_count": 3,
   "metadata": {},
   "outputs": [],
   "source": [
    "def Compute_grad_ij(alpha_mat,DAG,index):\n",
    "    j,i = index\n",
    "    t_i = DAG.nodes[i][\"time\"]\n",
    "    t_j = DAG.nodes[j][\"time\"]\n",
    "    parents = list(DAG.predecessors(i))\n",
    "    sum_grad = 0\n",
    "    for papa in parents :\n",
    "        sum_grad += alpha_mat[papa,i]\n",
    "    grad_ij = t_j-t_i - 1/sum_grad\n",
    "    return grad_ij"
   ]
  },
  {
   "cell_type": "code",
   "execution_count": 34,
   "metadata": {},
   "outputs": [
    {
     "name": "stdout",
     "output_type": "stream",
     "text": [
      "All nodes were read\n"
     ]
    }
   ],
   "source": [
    "G_true = Gen.Generate_random_graph(400,800)\n",
    "Cascades = Gen.Generate_all_cascades(G_true,-2000,window,model,beta)\n",
    "Gen.Save_cascade_to_file(\"Cascade_test_SG.txt\",Cascades,G_true)\n",
    "Gen.Save_graph_to_file(\"Graph_test_SG.txt\",G_true)\n",
    "G_star,DAG_C_dic = Init.Init(\"Cascade_test_SG.txt\")\n",
    "# G_true = Init.Load_ground_truth(network_file_name)\n",
    "# G_star, DAG_C_dic = Init.Init(cascade_file_name)"
   ]
  },
  {
   "cell_type": "code",
   "execution_count": 35,
   "metadata": {},
   "outputs": [],
   "source": [
    "nb_c_per_nodes = np.zeros(G_true.number_of_nodes())\n",
    "for c in DAG_C_dic :\n",
    "    DAG = DAG_C_dic[c]\n",
    "    for node in DAG :\n",
    "        nb_c_per_nodes[node] +=1"
   ]
  },
  {
   "cell_type": "code",
   "execution_count": 52,
   "metadata": {},
   "outputs": [],
   "source": [
    "# A_hat = np.random.uniform(0.01,1,(G_true.number_of_nodes(),G_true.number_of_nodes()))\n",
    "A_hat = np.full((G_true.number_of_nodes(),G_true.number_of_nodes()),0.01)\n",
    "for index,nb in enumerate(nb_c_per_nodes):\n",
    "    if nb==0:\n",
    "        A_hat[:,index]=eps\n",
    "np.fill_diagonal(A_hat,eps)"
   ]
  },
  {
   "cell_type": "code",
   "execution_count": 53,
   "metadata": {
    "scrolled": true
   },
   "outputs": [
    {
     "name": "stdout",
     "output_type": "stream",
     "text": [
      "0\n",
      "100\n",
      "200\n",
      "300\n",
      "400\n",
      "500\n",
      "600\n",
      "700\n",
      "800\n",
      "900\n",
      "1000\n"
     ]
    }
   ],
   "source": [
    "k=0\n",
    "while k <=1000 :\n",
    "    c_index = np.random.randint(0,len(DAG_C_dic),1)[0]\n",
    "    DAG_c = DAG_C_dic[c_index]\n",
    "    if k%100==0:\n",
    "        print(k)\n",
    "    for j in G_true.nodes():\n",
    "        for i in G_true.nodes():\n",
    "#             if j not in DAG_c.nodes() and A_hat[j,i]>eps :\n",
    "#                 A_hat[j,i] = max(rho *A_hat[j,i],eps)\n",
    "            if j in DAG_c.nodes() and i not in DAG_c.nodes():\n",
    "                t_j = DAG_c.nodes[j][\"time\"]\n",
    "                A_hat[j,i] = max((A_hat[j,i]-gamma*(window-t_j)),eps)\n",
    "            elif (j,i) in DAG_c.edges():\n",
    "                grad = Compute_grad_ij(A_hat,DAG_c,(j,i))\n",
    "                A_hat[j,i] = max((A_hat[j,i]-gamma*grad),eps)\n",
    "    k+=1"
   ]
  },
  {
   "cell_type": "code",
   "execution_count": 55,
   "metadata": {},
   "outputs": [
    {
     "name": "stdout",
     "output_type": "stream",
     "text": [
      "Precision : 0.19661016949152543\n",
      "Recall : 0.87\n",
      "Number of correct infered edges :  696\n",
      "Number of edges in G_hat : 3540\n",
      "Number of edges in the true network  800\n"
     ]
    }
   ],
   "source": [
    "'''\n",
    "Precision and recall computation\n",
    "'''\n",
    "correct = 0\n",
    "edge_G_star = list(G_star.edges())\n",
    "G_star.remove_edges_from(edge_G_star)\n",
    "for i in range(0,G_true.number_of_nodes()):\n",
    "    for j in range(0,G_true.number_of_nodes()):\n",
    "        if A_hat[i,j] >1e-2:\n",
    "            G_star.add_edge(i,j)\n",
    "            if (i,j) in G_true.edges():\n",
    "                correct +=1\n",
    "#                 print(\"edge \",(i,j))\n",
    "#                 print(\"alpha is \",A_hat[i,j])\n",
    "print(\"Precision :\",correct/G_star.number_of_edges())\n",
    "print(\"Recall :\",correct/G_true.number_of_edges())\n",
    "print(\"Number of correct infered edges : \",correct)\n",
    "print(\"Number of edges in G_hat :\",G_star.number_of_edges())\n",
    "print(\"Number of edges in the true network \",G_true.number_of_edges())"
   ]
  }
 ],
 "metadata": {
  "kernelspec": {
   "display_name": "Python 3",
   "language": "python",
   "name": "python3"
  },
  "language_info": {
   "codemirror_mode": {
    "name": "ipython",
    "version": 3
   },
   "file_extension": ".py",
   "mimetype": "text/x-python",
   "name": "python",
   "nbconvert_exporter": "python",
   "pygments_lexer": "ipython3",
   "version": "3.7.1"
  }
 },
 "nbformat": 4,
 "nbformat_minor": 2
}
