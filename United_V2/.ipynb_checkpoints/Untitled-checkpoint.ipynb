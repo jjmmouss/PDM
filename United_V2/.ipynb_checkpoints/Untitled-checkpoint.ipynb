{
 "cells": [
  {
   "cell_type": "code",
   "execution_count": 104,
   "metadata": {},
   "outputs": [],
   "source": [
    "import networkx as nx # version 2.2\n",
    "import numpy as np\n",
    "import Cascade_generation_functions_NetRate as gen\n",
    "import os\n",
    "import glob\n",
    "\n",
    "import sys\n",
    "import time\n",
    "import random\n",
    "\n",
    "import Init_NetRate as Init\n",
    "import cvxpy as cp\n",
    "import Cascade_generation_functions_NetRate as Gen\n",
    "import CVX_functions as cvx\n",
    "import NetRate_ADMM_fcts as ADMM\n",
    "import NetRate_SG_fcts as NetSG\n",
    "\n",
    "import Init_NetInf\n",
    "import Greedy_NetInf as Greed"
   ]
  },
  {
   "cell_type": "code",
   "execution_count": 105,
   "metadata": {},
   "outputs": [],
   "source": [
    "'''\n",
    "Global parameters for the cascade model and for all solving methods.\n",
    "'''\n",
    "window = 10\n",
    "beta = 1 # used for the construction of the cascades, probability of the edge to transmit the infection\n",
    "alpha_min = 0.0005\n",
    "alpha_max = 10 #bound alpha from above\n",
    "alpha_init = 0.01 #initial value of the infectious rates\n",
    "tol = 0.05 # value from which we decide that there exist an edge\n",
    "more_infos_Netrate = False # If set to true computes the time,accuracy and mean square error at each iteration (solves down the overall computartion)\n",
    "# can also be modified for each solver.\n",
    "\n",
    "'''For stochastic block model'''\n",
    "nb_communities = 10 #number of communities we want our graph to have\n",
    "p_1 = 0.4 # proba that the edge connect two vertices in the same community\n",
    "p_2 = 0.15 # proba that the edge connect two vertices in different communities\n",
    "\n",
    "\n",
    "solvers = [\"ADMM\"] #List containing the solver that should be used. \"NetInf\",\"CVX\",\"SGD\",\"ADMM\"\n",
    "gen = \"Stochastic\" # can either be \"Erdos\" or \"Stochastic\"\n",
    "'''\n",
    "NetRate with CVX\n",
    "'''\n",
    "more_infos_CVX = more_infos_Netrate\n",
    "\n",
    "'''\n",
    "NetRate with SGD parameters\n",
    "'''\n",
    "gamma_SGD = 0.0005\n",
    "K = 15000 #number of itterations of SGD\n",
    "more_infos_SGD = more_infos_Netrate\n",
    "\n",
    "SGD_param = (alpha_init,alpha_max,K,gamma_SGD,alpha_min,window,tol,more_infos_SGD)\n",
    "\n",
    "'''\n",
    "Netrate with ADMM\n",
    "'''\n",
    "iter_ADMM = 50 #number of itteration for 1 node in the ADMM method. This is a parameter to tune\n",
    "iter_GD_ADMM = 2000 #number of iterations of the gradient descent\n",
    "gamma_ADMM = 0.00005 # Learning rate of the GD for alpha (maybe too small)\n",
    "u = 4 # used for the gradient descent of rho and as a penalizer and the constrain\n",
    "more_infos_ADMM = more_infos_Netrate \n",
    "param_ADMM = (alpha_init,alpha_max,window,iter_GD_ADMM,iter_ADMM,gamma_ADMM,u,alpha_min,tol,more_infos_ADMM)\n",
    "iter_ADMM_SGD = 1000 # Test for the ADMM with SGD for the alpha update\n",
    "gamma_ADMM_SGD = 0.0005\n",
    "param_ADMM = (alpha_init,alpha_max,window,iter_GD_ADMM,iter_ADMM,gamma_ADMM_SGD,u,alpha_min,tol,more_infos_ADMM)\n",
    "\n",
    "'''\n",
    "NetInf paramters\n",
    "'''\n",
    "EPS = 1e-64 #zero machine\n",
    "ALPHA = 1.0 #Incubation parameter (for exp and power law)\n",
    "MODEL = 0 # 0 = exp law, 1 = power law (power law is not  implemented yet) When constructing the underlying network specify that we use the exponential law\n",
    "MAX = sys.float_info.max #Max value of a float in python\n",
    "#MIN = sys.float_info.min #Min value of a float in python\n",
    "MIN = -MAX\n",
    "#(works only if groundtruth is available)\n",
    "#When set to True (especially boundOn) it slow down greatly the computation\n",
    "compare_groud_truth = False # If set to True outputs some aditional information (precision and recall of the algo)\n",
    "boundOn = False\n",
    "\n",
    "greedy_global_param = (ALPHA,MODEL,MAX,MIN,EPS,compare_groud_truth,boundOn)\n"
   ]
  },
  {
   "cell_type": "code",
   "execution_count": 110,
   "metadata": {},
   "outputs": [
    {
     "name": "stdout",
     "output_type": "stream",
     "text": [
      "All nodes were read\n"
     ]
    }
   ],
   "source": [
    "cascade_path =\"bla.txt\"\n",
    "G_true = Gen.Generate_random_graph(100,200)\n",
    "Cascades = Gen.Generate_all_cascades(G_true,-300,window,MODEL,beta)\n",
    "Gen.Save_cascade_to_file(cascade_path,Cascades,G_true)\n",
    "G_star,C_dic = Init.Init(cascade_path)\n",
    "N = G_true.number_of_nodes()"
   ]
  },
  {
   "cell_type": "code",
   "execution_count": null,
   "metadata": {},
   "outputs": [],
   "source": [
    "t_s = time.time()\n",
    "A_hat_ADMM,obj_per_iter_per_node_ADMM,acc_mse_time_ADMM = ADMM.NetRate_ADMM(G_true,C_dic,N,param_ADMM)\n",
    "t_f = time.time()\n",
    "print(\"time\")\n",
    "algo_infos_ADMM = Global_Precision_Recall_Accuracy_MSE_NetRate(G_true,A_hat_ADMM,0.05)\n",
    "print(algo_infos_ADMM)"
   ]
  },
  {
   "cell_type": "code",
   "execution_count": null,
   "metadata": {},
   "outputs": [],
   "source": [
    "t_s = time.time()\n",
    "A_hat_ADMM,obj_per_iter_per_node_ADMM,acc_mse_time_ADMM = ADMM.NetRate_ADMM_SGD(G_true,C_dic,N,param_ADMM,iter_ADMM_SGD)\n",
    "t_f = time.time()\n",
    "print(\"time\")\n",
    "algo_infos_ADMM = Global_Precision_Recall_Accuracy_MSE_NetRate(G_true,A_hat_ADMM,0.05)\n",
    "print(algo_infos_ADMM)"
   ]
  }
 ],
 "metadata": {
  "kernelspec": {
   "display_name": "Python 3",
   "language": "python",
   "name": "python3"
  },
  "language_info": {
   "codemirror_mode": {
    "name": "ipython",
    "version": 3
   },
   "file_extension": ".py",
   "mimetype": "text/x-python",
   "name": "python",
   "nbconvert_exporter": "python",
   "pygments_lexer": "ipython3",
   "version": "3.7.1"
  }
 },
 "nbformat": 4,
 "nbformat_minor": 2
}
