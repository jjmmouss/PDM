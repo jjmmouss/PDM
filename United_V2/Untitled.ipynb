{
 "cells": [
  {
   "cell_type": "code",
   "execution_count": 1,
   "metadata": {},
   "outputs": [],
   "source": [
    "import networkx as nx # version 2.2\n",
    "import numpy as np\n",
    "import Cascade_generation_functions_NetRate as gen\n",
    "import os\n",
    "import glob\n",
    "\n",
    "import sys\n",
    "import time\n",
    "import random\n",
    "\n",
    "import Init_NetRate as Init\n",
    "import cvxpy as cp\n",
    "import Cascade_generation_functions_NetRate as Gen\n",
    "import CVX_functions as cvx\n",
    "import NetRate_ADMM_fcts as ADMM\n",
    "import NetRate_SG_fcts as NetSG\n",
    "\n",
    "import Init_NetInf\n",
    "import Greedy_NetInf as Greed"
   ]
  },
  {
   "cell_type": "code",
   "execution_count": 2,
   "metadata": {},
   "outputs": [],
   "source": [
    "def Global_Precision_Recall_Accuracy_MSE_NetRate(G_true,A_hat,lower_bound):\n",
    "    correct = 0\n",
    "    nb_edges = 0\n",
    "    top_acc = 0\n",
    "    bot_acc = 0\n",
    "    for i in range(0,G_true.number_of_nodes()):\n",
    "        for j in range(0,G_true.number_of_nodes()):\n",
    "            if A_hat[i,j] >lower_bound:\n",
    "                nb_edges +=1\n",
    "                bot_acc +=1\n",
    "                if (i,j) in G_true.edges():\n",
    "                    correct +=1\n",
    "                    bot_acc+=1\n",
    "                else :\n",
    "                    top_acc+=1\n",
    "            else :\n",
    "                if (i,j) in G_true.edges():\n",
    "                    top_acc +=1\n",
    "                    bot_acc+=1\n",
    "                \n",
    "    precision = correct/nb_edges\n",
    "    recall = correct/G_true.number_of_edges()\n",
    "    accuracy = 1-(top_acc/bot_acc)\n",
    "    mse = 0\n",
    "    nb_correcte_edges=0\n",
    "    for edge in G_true.edges():\n",
    "            try:\n",
    "                true_alpha = G_true.edges[edge][\"weight\"][0]\n",
    "            except TypeError:\n",
    "                true_alpha = G_true.edges[edge][\"weight\"]\n",
    "            approx_alpha = A_hat[edge[0],edge[1]]\n",
    "            mse += pow((true_alpha-approx_alpha),2) # mean square error\n",
    "    try :\n",
    "        mse = mse/G_true.number_of_edges()\n",
    "    except ZeroDivisionError:\n",
    "        print (\"There is no correct edge\")\n",
    "    return (precision,recall,accuracy,mse)\n",
    "\n",
    "def Global_Precision_Recall_Accuracy_NetInf(G_true,G_max):\n",
    "    correct = 0\n",
    "    top_acc = 0\n",
    "    bot_acc = 0\n",
    "    nb_edges_G_max = G_max.number_of_edges()\n",
    "    nb_edges_G_true = G_true.number_of_edges()\n",
    "    for i in range(0,G_true.number_of_nodes()):\n",
    "        for j in range(0,G_true.number_of_nodes()):\n",
    "            if (i,j) in G_max.edges() :\n",
    "                bot_acc +=1\n",
    "                if(i,j) in G_true.edges() :\n",
    "                    bot_acc +=1\n",
    "                    correct+=1\n",
    "                else :\n",
    "                    top_acc +=1\n",
    "            else :\n",
    "                if (i,j) in G_true.edges():\n",
    "                    top_acc +=1\n",
    "                    bot_acc +=1\n",
    "    precision = correct/nb_edges_G_max\n",
    "    recall = correct/nb_edges_G_true\n",
    "    accuracy = 1-top_acc/bot_acc\n",
    "    return(precision,recall,accuracy)\n",
    "\n",
    "def Write_info(file_path,time,algo_infos):\n",
    "    precision,recall,accuracy,mse = algo_infos\n",
    "    f = open(file_path,\"w\")\n",
    "    f.write(\"General Infos\\n\")\n",
    "    f.write(\"time needed : \"+str(time)+\" s\\n\")\n",
    "    f.write(\"Accuracy of the algo : \" +str(accuracy)+\"\\n\")\n",
    "    f.write(\"precision of the algo : \"+str(precision)+\"\\n\")\n",
    "    f.write(\"recall of the algo : \"+str(recall)+\"\\n\")\n",
    "    f.write(\"mean square error is : \"+str(mse)+\"\\n\")\n",
    "    f.close()"
   ]
  },
  {
   "cell_type": "code",
   "execution_count": 10,
   "metadata": {},
   "outputs": [],
   "source": [
    "'''\n",
    "Global parameters for the cascade model and for all solving methods.\n",
    "'''\n",
    "window = 10\n",
    "beta = 1 # used for the construction of the cascades, probability of the edge to transmit the infection\n",
    "alpha_min = 0.0005\n",
    "alpha_max = 10 #bound alpha from above\n",
    "alpha_init = 0.01 #initial value of the infectious rates\n",
    "tol = 0.05 # value from which we decide that there exist an edge\n",
    "more_infos_Netrate = False # If set to true computes the time,accuracy and mean square error at each iteration (solves down the overall computartion)\n",
    "# can also be modified for each solver.\n",
    "\n",
    "'''For stochastic block model'''\n",
    "nb_communities = 10 #number of communities we want our graph to have\n",
    "p_1 = 0.4 # proba that the edge connect two vertices in the same community\n",
    "p_2 = 0.15 # proba that the edge connect two vertices in different communities\n",
    "\n",
    "\n",
    "solvers = [\"ADMM\"] #List containing the solver that should be used. \"NetInf\",\"CVX\",\"SGD\",\"ADMM\"\n",
    "gen = \"Stochastic\" # can either be \"Erdos\" or \"Stochastic\"\n",
    "'''\n",
    "NetRate with CVX\n",
    "'''\n",
    "more_infos_CVX = more_infos_Netrate\n",
    "\n",
    "'''\n",
    "NetRate with SGD parameters\n",
    "'''\n",
    "gamma_SGD = 0.0005\n",
    "K = 15000 #number of itterations of SGD\n",
    "more_infos_SGD = more_infos_Netrate\n",
    "\n",
    "SGD_param = (alpha_init,alpha_max,K,gamma_SGD,alpha_min,window,tol,more_infos_SGD)\n",
    "\n",
    "'''\n",
    "Netrate with ADMM\n",
    "'''\n",
    "iter_ADMM = 50 #number of itteration for 1 node in the ADMM method. This is a parameter to tune\n",
    "iter_GD_ADMM = 2000 #number of iterations of the gradient descent\n",
    "gamma_ADMM = 0.00005 # Learning rate of the GD for alpha (maybe too small)\n",
    "u = 4 # used for the gradient descent of rho and as a penalizer and the constrain\n",
    "more_infos_ADMM = more_infos_Netrate \n",
    "param_ADMM = (alpha_init,alpha_max,window,iter_GD_ADMM,iter_ADMM,gamma_ADMM,u,alpha_min,tol,more_infos_ADMM)\n",
    "\n",
    "\n",
    "iter_ADMM_SGD = 1500 # Test for the ADMM with SGD for the alpha update\n",
    "gamma_ADMM_SGD = 0.0005\n",
    "param_ADMM_SGD = (alpha_init,alpha_max,window,iter_GD_ADMM,iter_ADMM,gamma_ADMM_SGD,u,alpha_min,tol,more_infos_ADMM)\n",
    "\n",
    "'''\n",
    "NetInf paramters\n",
    "'''\n",
    "EPS = 1e-64 #zero machine\n",
    "ALPHA = 1.0 #Incubation parameter (for exp and power law)\n",
    "MODEL = 0 # 0 = exp law, 1 = power law (power law is not  implemented yet) When constructing the underlying network specify that we use the exponential law\n",
    "MAX = sys.float_info.max #Max value of a float in python\n",
    "#MIN = sys.float_info.min #Min value of a float in python\n",
    "MIN = -MAX\n",
    "#(works only if groundtruth is available)\n",
    "#When set to True (especially boundOn) it slow down greatly the computation\n",
    "compare_groud_truth = False # If set to True outputs some aditional information (precision and recall of the algo)\n",
    "boundOn = False\n",
    "\n",
    "greedy_global_param = (ALPHA,MODEL,MAX,MIN,EPS,compare_groud_truth,boundOn)\n"
   ]
  },
  {
   "cell_type": "code",
   "execution_count": 4,
   "metadata": {},
   "outputs": [
    {
     "name": "stdout",
     "output_type": "stream",
     "text": [
      "All nodes were read\n"
     ]
    }
   ],
   "source": [
    "cascade_path =\"bla.txt\"\n",
    "G_true = Gen.Generate_random_graph(50,100)\n",
    "Cascades = Gen.Generate_all_cascades(G_true,-300,window,MODEL,beta)\n",
    "Gen.Save_cascade_to_file(cascade_path,Cascades,G_true)\n",
    "G_star,C_dic = Init.Init(cascade_path)\n",
    "N = G_true.number_of_nodes()"
   ]
  },
  {
   "cell_type": "code",
   "execution_count": 5,
   "metadata": {},
   "outputs": [
    {
     "name": "stdout",
     "output_type": "stream",
     "text": [
      "68.51080632209778\n",
      "(0.9270833333333334, 0.89, 0.9081632653061225, 0.02387663973705827)\n"
     ]
    }
   ],
   "source": [
    "t_s = time.time()\n",
    "A_hat_ADMM,obj_per_iter_per_node_ADMM,acc_mse_time_ADMM = ADMM.NetRate_ADMM(G_true,C_dic,N,param_ADMM)\n",
    "t_f = time.time()\n",
    "print(t_f-t_s)\n",
    "algo_infos_ADMM = Global_Precision_Recall_Accuracy_MSE_NetRate(G_true,A_hat_ADMM,0.05)\n",
    "print(algo_infos_ADMM)"
   ]
  },
  {
   "cell_type": "code",
   "execution_count": 9,
   "metadata": {},
   "outputs": [
    {
     "name": "stdout",
     "output_type": "stream",
     "text": [
      "6.204376220703125\n"
     ]
    },
    {
     "ename": "ZeroDivisionError",
     "evalue": "division by zero",
     "output_type": "error",
     "traceback": [
      "\u001b[1;31m---------------------------------------------------------------------------\u001b[0m",
      "\u001b[1;31mZeroDivisionError\u001b[0m                         Traceback (most recent call last)",
      "\u001b[1;32m<ipython-input-9-0a9078918aaf>\u001b[0m in \u001b[0;36m<module>\u001b[1;34m\u001b[0m\n\u001b[0;32m      3\u001b[0m \u001b[0mt_f\u001b[0m \u001b[1;33m=\u001b[0m \u001b[0mtime\u001b[0m\u001b[1;33m.\u001b[0m\u001b[0mtime\u001b[0m\u001b[1;33m(\u001b[0m\u001b[1;33m)\u001b[0m\u001b[1;33m\u001b[0m\u001b[1;33m\u001b[0m\u001b[0m\n\u001b[0;32m      4\u001b[0m \u001b[0mprint\u001b[0m\u001b[1;33m(\u001b[0m\u001b[0mt_f\u001b[0m\u001b[1;33m-\u001b[0m\u001b[0mt_s\u001b[0m\u001b[1;33m)\u001b[0m\u001b[1;33m\u001b[0m\u001b[1;33m\u001b[0m\u001b[0m\n\u001b[1;32m----> 5\u001b[1;33m \u001b[0malgo_infos_ADMM\u001b[0m \u001b[1;33m=\u001b[0m \u001b[0mGlobal_Precision_Recall_Accuracy_MSE_NetRate\u001b[0m\u001b[1;33m(\u001b[0m\u001b[0mG_true\u001b[0m\u001b[1;33m,\u001b[0m\u001b[0mA_hat_ADMM\u001b[0m\u001b[1;33m,\u001b[0m\u001b[1;36m0.05\u001b[0m\u001b[1;33m)\u001b[0m\u001b[1;33m\u001b[0m\u001b[1;33m\u001b[0m\u001b[0m\n\u001b[0m\u001b[0;32m      6\u001b[0m \u001b[0mprint\u001b[0m\u001b[1;33m(\u001b[0m\u001b[0malgo_infos_ADMM\u001b[0m\u001b[1;33m)\u001b[0m\u001b[1;33m\u001b[0m\u001b[1;33m\u001b[0m\u001b[0m\n",
      "\u001b[1;32m<ipython-input-2-01acf1b19491>\u001b[0m in \u001b[0;36mGlobal_Precision_Recall_Accuracy_MSE_NetRate\u001b[1;34m(G_true, A_hat, lower_bound)\u001b[0m\n\u001b[0;32m     19\u001b[0m                     \u001b[0mbot_acc\u001b[0m\u001b[1;33m+=\u001b[0m\u001b[1;36m1\u001b[0m\u001b[1;33m\u001b[0m\u001b[1;33m\u001b[0m\u001b[0m\n\u001b[0;32m     20\u001b[0m \u001b[1;33m\u001b[0m\u001b[0m\n\u001b[1;32m---> 21\u001b[1;33m     \u001b[0mprecision\u001b[0m \u001b[1;33m=\u001b[0m \u001b[0mcorrect\u001b[0m\u001b[1;33m/\u001b[0m\u001b[0mnb_edges\u001b[0m\u001b[1;33m\u001b[0m\u001b[1;33m\u001b[0m\u001b[0m\n\u001b[0m\u001b[0;32m     22\u001b[0m     \u001b[0mrecall\u001b[0m \u001b[1;33m=\u001b[0m \u001b[0mcorrect\u001b[0m\u001b[1;33m/\u001b[0m\u001b[0mG_true\u001b[0m\u001b[1;33m.\u001b[0m\u001b[0mnumber_of_edges\u001b[0m\u001b[1;33m(\u001b[0m\u001b[1;33m)\u001b[0m\u001b[1;33m\u001b[0m\u001b[1;33m\u001b[0m\u001b[0m\n\u001b[0;32m     23\u001b[0m     \u001b[0maccuracy\u001b[0m \u001b[1;33m=\u001b[0m \u001b[1;36m1\u001b[0m\u001b[1;33m-\u001b[0m\u001b[1;33m(\u001b[0m\u001b[0mtop_acc\u001b[0m\u001b[1;33m/\u001b[0m\u001b[0mbot_acc\u001b[0m\u001b[1;33m)\u001b[0m\u001b[1;33m\u001b[0m\u001b[1;33m\u001b[0m\u001b[0m\n",
      "\u001b[1;31mZeroDivisionError\u001b[0m: division by zero"
     ]
    }
   ],
   "source": [
    "t_s = time.time()\n",
    "A_hat_ADMM,obj_per_iter_per_node_ADMM,acc_mse_time_ADMM = ADMM.NetRate_ADMM_SGD(G_true,C_dic,N,param_ADMM,iter_ADMM_SGD)\n",
    "t_f = time.time()\n",
    "print(t_f-t_s)\n",
    "algo_infos_ADMM = Global_Precision_Recall_Accuracy_MSE_NetRate(G_true,A_hat_ADMM,0.05)\n",
    "print(algo_infos_ADMM)"
   ]
  }
 ],
 "metadata": {
  "kernelspec": {
   "display_name": "Python 3",
   "language": "python",
   "name": "python3"
  },
  "language_info": {
   "codemirror_mode": {
    "name": "ipython",
    "version": 3
   },
   "file_extension": ".py",
   "mimetype": "text/x-python",
   "name": "python",
   "nbconvert_exporter": "python",
   "pygments_lexer": "ipython3",
   "version": "3.7.1"
  }
 },
 "nbformat": 4,
 "nbformat_minor": 2
}
