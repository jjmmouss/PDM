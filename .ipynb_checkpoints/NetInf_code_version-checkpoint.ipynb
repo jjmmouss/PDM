{
 "cells": [
  {
   "cell_type": "code",
   "execution_count": 1,
   "metadata": {},
   "outputs": [],
   "source": [
    "import networkx as nx\n",
    "import matplotlib.pyplot as plt\n",
    "import re\n",
    "import random\n",
    "import operator #to sort elements in a list of tuples\n",
    "import itertools\n",
    "import math\n",
    "import numpy as np\n",
    "import os\n",
    "\n",
    "import Cascade_generation_functions as C_gen\n",
    "import Init_NetInf"
   ]
  },
  {
   "cell_type": "code",
   "execution_count": 2,
   "metadata": {},
   "outputs": [],
   "source": [
    "'''\n",
    "Global variables\n",
    "'''\n",
    "\n",
    "EPS = 1e-64 #zero machine\n",
    "ALPHA = 1.0 #Incubation parameter (for exp and power law)\n",
    "MODEL = 0 # 0 = exp law, 1 = power law (power law is not fully implemented yet)\n",
    "ITER = 5 #Number of interation of the greedy algo"
   ]
  },
  {
   "cell_type": "code",
   "execution_count": null,
   "metadata": {},
   "outputs": [],
   "source": [
    "def Create_ground_truth_from_file(file):\n",
    "    f = open(file,\"r\")\n",
    "    G = nx.DiGraph()\n",
    "    for nodes in f:\n",
    "        if not nodes.strip(): ## Stop at the first blank line\n",
    "            print(\"stop\")\n",
    "            break\n",
    "        node = re.split(',|\\n',nodes) # the format of the input file is <id>,<name>  \n",
    "        vertex = node[0]\n",
    "        names = node[1]\n",
    "        G.add_node(int(vertex),name = names)\n",
    "    for edges in f :\n",
    "        edge = re.split(',|\\n',edges)\n",
    "        vertex_i = edge[0] # initial vertex of the directed edge\n",
    "        vertex_f = edge[1] # final vertex of the edge\n",
    "        G.add_edge(int(vertex_i),int(vertex_f),number_of_cascade_edge_is_in =0)\n",
    "    return G\n",
    "\n",
    "def Save_graph_to_file(G,file_name):\n",
    "    f = open(file_name,\"w\")\n",
    "    for nodes in G.nodes() :\n",
    "        f.write(str(nodes)+\",\"+str(nodes)+\"\\n\")\n",
    "    f.write(\"\\n\")\n",
    "    for edges in G.edges():\n",
    "        v1,v2 = edges\n",
    "        f.write(str(v1)+\",\"+str(v2)+\"\\n\")\n",
    "    f.close()"
   ]
  },
  {
   "cell_type": "code",
   "execution_count": 47,
   "metadata": {},
   "outputs": [
    {
     "ename": "IndentationError",
     "evalue": "expected an indented block (<ipython-input-47-1a205128f99d>, line 46)",
     "output_type": "error",
     "traceback": [
      "\u001b[1;36m  File \u001b[1;32m\"<ipython-input-47-1a205128f99d>\"\u001b[1;36m, line \u001b[1;32m46\u001b[0m\n\u001b[1;33m    def UpdateProb(DAG_Tree_c_prob,v1,v2):\u001b[0m\n\u001b[1;37m                                           ^\u001b[0m\n\u001b[1;31mIndentationError\u001b[0m\u001b[1;31m:\u001b[0m expected an indented block\n"
     ]
    }
   ],
   "source": [
    "# This does not make sense for me. But for now I implement the same function they used in their c++ code\n",
    "def TransProb(DAG, v1,v2):\n",
    "    global MODEL\n",
    "    global ALPHA\n",
    "    if( v1 not in DAG.nodes() or v2 not in DAG.nodes()) :\n",
    "        return EPS\n",
    "    t1 = DAG.nodes[v1][\"time\"]\n",
    "    t2 = DAG.nodes[v2][\"time\"]\n",
    "    if t1>=t2 :\n",
    "        return EPS\n",
    "    if MODEL == 0:\n",
    "        prob = ALPHA*math.exp(-ALPHA*(t2-t1))\n",
    "    elif MODEL ==1 :\n",
    "        prob = (ALPHA-1)*math.pow((t2-t1),-ALPHA)\n",
    "    return prob\n",
    "\n",
    "def GetProb(DAG) :\n",
    "    p = 0\n",
    "    Tree = nx.DiGraph()\n",
    "    Tree.clear()\n",
    "    for i in DAG.nodes():\n",
    "        destination_node = i\n",
    "        destination_time = DAG.nodes[i][\"time\"]\n",
    "        if(destination_node not in Tree.nodes()):\n",
    "            Tree.add_node(destination_node, time = destination_time)\n",
    "        maxProb = math.log(EPS)\n",
    "        bestParent = -1\n",
    "        parents = list(DAG.predecessors(destination_node))\n",
    "        for source_node in parents :\n",
    "            prob = math.log(TransProb(DAG,source_node,destination_node))\n",
    "            if(prob>=maxProb) :\n",
    "                maxProb = prob\n",
    "                bestParent = source_node\n",
    "        parent_time = DAG.nodes[bestParent][\"time\"]\n",
    "        if(bestParent not in Tree.nodes()):\n",
    "            Tree.add_node(bestParent, time = parent_time)\n",
    "        Tree.add_edge(bestParent,destination_node)\n",
    "        p += maxProb\n",
    "    return Tree, p\n",
    "\n",
    "def GetAllCascProb(v1,v2,DAG_Tree_c_dic):\n",
    "    p = 0\n",
    "    if(v1==-1 and v2 ==-1):\n",
    "        for c_key in DAG_Tree_c_dic :\n",
    "        # I STOPPED HERE !!!\n",
    "        \n",
    "def UpdateProb(DAG_Tree_c_prob,v1,v2,updateProb_bool): \n",
    "    DAG_c,Tree_c,current_prob_Tc = DAG_Tree_c_prob\n",
    "    if(v1 not in Tree_c.nodes() or v2 not in Tree_c.nodes()):\n",
    "        return (Tree_c,current_prob_Tc)\n",
    "    if DAG_c.nodes[v1][\"time\"]>=DAG_c.nodes[v2][\"time\"] :\n",
    "        return (Tree_c,current_prob_Tc)\n",
    "    parent_v2_list = list(Tree_c.predecessors(v2))\n",
    "    if len(parent_v2_list) == 0:\n",
    "        parent_v2 = -1 #set an impossible node\n",
    "    else :\n",
    "        parent_v2 = parent_v2_list[0]\n",
    "    p1 = math.log(TransProb(DAG_c, parent_v2,v2))\n",
    "    p2 = math.log(TransProb(DAG_c,v1,v2))\n",
    "    if (p1<p2) :\n",
    "        if(updateProb_bool) :\n",
    "            if (parent_v2,v2) in Tree_c.edge():\n",
    "                Tree_c.remove_edge(parent_v2,v2)\n",
    "            Tree_c.add_edge(v1,v2)\n",
    "        current_prob_Tc = current_prob_Tc-p1+p2\n",
    "        return(Tree_c,current_prob_Tc)\n"
   ]
  },
  {
   "cell_type": "code",
   "execution_count": null,
   "metadata": {},
   "outputs": [],
   "source": [
    "\n",
    "def Compute_marginal_gain(G,DAG_Tree_c_dic):\n",
    "    poss_edge = itertools.combinations(G.nodes,2) #Compute all possible edges\n",
    "    dic_of_gains = {}\n",
    "    dic_of_cascades_per_edge = {}\n",
    "    for edge in list(poss_edge) :\n",
    "        if edge not in G.edges : #Considers only the edges that where not already added to G\n",
    "            marginal_improve = 0\n",
    "            list_of_cascade = []\n",
    "            for i in range(0,len(DAG_Tree_c_dic)):\n",
    "                if edge in DAG_Tree_c_dic[i][0].edges : #Consider only the cascades in which the edge is actually present\n",
    "                    u,v = edge\n",
    "                    time_u = DAG_Tree_c_dic[i][0].node[u][\"time\"]\n",
    "                    time_v = DAG_Tree_c_dic[i][0].node[v][\"time\"]\n",
    "                    parent_v = list(DAG_Tree_c_dic[i][1].predecessors(v))[0]\n",
    "                    current_weight = DAG_Tree_c_dic[i][1].edges[(parent_v,v)][\"weight\"]\n",
    "                    weight_uv = Get_edge_weight(1.0,time_u,time_v)\n",
    "                    if weight_uv >= current_weight :\n",
    "                        marginal_improve = marginal_improve + weight_uv-current_weight\n",
    "                        list_of_cascade.append(i)\n",
    "            dic_of_gains[edge] = marginal_improve\n",
    "            dic_of_cascades_per_edge[edge] = list_of_cascade\n",
    "    return dic_of_gains,dic_of_cascades_per_edge\n",
    "\n",
    "def Find_best_edge(dic_of_gains,G) :\n",
    "    maxi = 0\n",
    "    for key in dic_of_gains.keys() :\n",
    "        current = dic_of_gains[key]\n",
    "        if current>maxi :\n",
    "            maxi = current\n",
    "            max_key = key      \n",
    "    G.add_edge(max_key[0],max_key[1])\n",
    "    return G,max_key\n",
    "    \n",
    "def Update_trees(best_edge,dic_of_cascades_per_edge,DAG_Tree_c_dic,alpha):\n",
    "    for i in dic_of_cascades_per_edge[best_edge] :\n",
    "        u,v = best_edge\n",
    "        Tree = DAG_Tree_c_dic[i][1]\n",
    "        DAG = DAG_Tree_c_dic[i][0]\n",
    "        parent_v = list(Tree.predecessors(v))[0]\n",
    "        Tree.remove_edge(parent_v,v)\n",
    "        t_u = DAG.nodes[u][\"time\"]\n",
    "        t_v = DAG.nodes[v][\"time\"]\n",
    "        best_edge_weight = Get_edge_weight(alpha,t_u,t_v) \n",
    "        Tree.add_edge(u,v,weight = best_edge_weight)\n",
    "        DAG_Tree_c_dic[i] = (DAG,Tree)\n",
    "    return DAG_Tree_c_dic\n"
   ]
  },
  {
   "cell_type": "code",
   "execution_count": 3,
   "metadata": {},
   "outputs": [
    {
     "name": "stdout",
     "output_type": "stream",
     "text": [
      "All nodes were read\n"
     ]
    }
   ],
   "source": [
    "G,DAG_Tree_c_dic,cascades_per_edge_dic = Init_NetInf.Init(\"example-cascades.txt\",EPS)"
   ]
  },
  {
   "cell_type": "code",
   "execution_count": null,
   "metadata": {},
   "outputs": [],
   "source": [
    "G_true = Create_ground_truth_from_file(\"example-network.txt\")\n",
    "nx.draw(G_true, with_labels=True, node_size=1500, node_color=\"skyblue\", pos=nx.spring_layout(G_true))\n",
    "plt.title(\"spring\")\n",
    "plt.show()\n",
    "nx.write_gexf(G_true,\"Test.gexf\") # Save the graph in a file that is going to be used in the Gephi software (for visualization)\n"
   ]
  },
  {
   "cell_type": "code",
   "execution_count": 46,
   "metadata": {},
   "outputs": [
    {
     "name": "stdout",
     "output_type": "stream",
     "text": [
      "yes\n"
     ]
    }
   ],
   "source": [
    "tree_test = DAG_Tree_c_dic[0][1]\n",
    "DAG_test = DAG_Tree_c_dic[0][0]\n",
    "tree_test.nodes()\n",
    "parent = list(tree_test.predecessors(5))\n",
    "if len(parent)==0:\n",
    "    v1 = -5\n",
    "if v1 not in tree_test.nodes():\n",
    "    print(\"yes\")"
   ]
  },
  {
   "cell_type": "code",
   "execution_count": 51,
   "metadata": {},
   "outputs": [
    {
     "ename": "NetworkXError",
     "evalue": "The edge 1-2 not in graph.",
     "output_type": "error",
     "traceback": [
      "\u001b[1;31m---------------------------------------------------------------------------\u001b[0m",
      "\u001b[1;31mKeyError\u001b[0m                                  Traceback (most recent call last)",
      "\u001b[1;32m~\\Anaconda3\\lib\\site-packages\\networkx\\classes\\digraph.py\u001b[0m in \u001b[0;36mremove_edge\u001b[1;34m(self, u, v)\u001b[0m\n\u001b[0;32m    717\u001b[0m         \u001b[1;32mtry\u001b[0m\u001b[1;33m:\u001b[0m\u001b[1;33m\u001b[0m\u001b[1;33m\u001b[0m\u001b[0m\n\u001b[1;32m--> 718\u001b[1;33m             \u001b[1;32mdel\u001b[0m \u001b[0mself\u001b[0m\u001b[1;33m.\u001b[0m\u001b[0m_succ\u001b[0m\u001b[1;33m[\u001b[0m\u001b[0mu\u001b[0m\u001b[1;33m]\u001b[0m\u001b[1;33m[\u001b[0m\u001b[0mv\u001b[0m\u001b[1;33m]\u001b[0m\u001b[1;33m\u001b[0m\u001b[1;33m\u001b[0m\u001b[0m\n\u001b[0m\u001b[0;32m    719\u001b[0m             \u001b[1;32mdel\u001b[0m \u001b[0mself\u001b[0m\u001b[1;33m.\u001b[0m\u001b[0m_pred\u001b[0m\u001b[1;33m[\u001b[0m\u001b[0mv\u001b[0m\u001b[1;33m]\u001b[0m\u001b[1;33m[\u001b[0m\u001b[0mu\u001b[0m\u001b[1;33m]\u001b[0m\u001b[1;33m\u001b[0m\u001b[1;33m\u001b[0m\u001b[0m\n",
      "\u001b[1;31mKeyError\u001b[0m: 2",
      "\nDuring handling of the above exception, another exception occurred:\n",
      "\u001b[1;31mNetworkXError\u001b[0m                             Traceback (most recent call last)",
      "\u001b[1;32m<ipython-input-51-128bd19bbe9e>\u001b[0m in \u001b[0;36m<module>\u001b[1;34m\u001b[0m\n\u001b[1;32m----> 1\u001b[1;33m \u001b[0mG\u001b[0m\u001b[1;33m.\u001b[0m\u001b[0mremove_edge\u001b[0m\u001b[1;33m(\u001b[0m\u001b[1;36m1\u001b[0m\u001b[1;33m,\u001b[0m\u001b[1;36m2\u001b[0m\u001b[1;33m)\u001b[0m\u001b[1;33m\u001b[0m\u001b[1;33m\u001b[0m\u001b[0m\n\u001b[0m",
      "\u001b[1;32m~\\Anaconda3\\lib\\site-packages\\networkx\\classes\\digraph.py\u001b[0m in \u001b[0;36mremove_edge\u001b[1;34m(self, u, v)\u001b[0m\n\u001b[0;32m    719\u001b[0m             \u001b[1;32mdel\u001b[0m \u001b[0mself\u001b[0m\u001b[1;33m.\u001b[0m\u001b[0m_pred\u001b[0m\u001b[1;33m[\u001b[0m\u001b[0mv\u001b[0m\u001b[1;33m]\u001b[0m\u001b[1;33m[\u001b[0m\u001b[0mu\u001b[0m\u001b[1;33m]\u001b[0m\u001b[1;33m\u001b[0m\u001b[1;33m\u001b[0m\u001b[0m\n\u001b[0;32m    720\u001b[0m         \u001b[1;32mexcept\u001b[0m \u001b[0mKeyError\u001b[0m\u001b[1;33m:\u001b[0m\u001b[1;33m\u001b[0m\u001b[1;33m\u001b[0m\u001b[0m\n\u001b[1;32m--> 721\u001b[1;33m             \u001b[1;32mraise\u001b[0m \u001b[0mNetworkXError\u001b[0m\u001b[1;33m(\u001b[0m\u001b[1;34m\"The edge %s-%s not in graph.\"\u001b[0m \u001b[1;33m%\u001b[0m \u001b[1;33m(\u001b[0m\u001b[0mu\u001b[0m\u001b[1;33m,\u001b[0m \u001b[0mv\u001b[0m\u001b[1;33m)\u001b[0m\u001b[1;33m)\u001b[0m\u001b[1;33m\u001b[0m\u001b[1;33m\u001b[0m\u001b[0m\n\u001b[0m\u001b[0;32m    722\u001b[0m \u001b[1;33m\u001b[0m\u001b[0m\n\u001b[0;32m    723\u001b[0m     \u001b[1;32mdef\u001b[0m \u001b[0mremove_edges_from\u001b[0m\u001b[1;33m(\u001b[0m\u001b[0mself\u001b[0m\u001b[1;33m,\u001b[0m \u001b[0mebunch\u001b[0m\u001b[1;33m)\u001b[0m\u001b[1;33m:\u001b[0m\u001b[1;33m\u001b[0m\u001b[1;33m\u001b[0m\u001b[0m\n",
      "\u001b[1;31mNetworkXError\u001b[0m: The edge 1-2 not in graph."
     ]
    }
   ],
   "source": []
  },
  {
   "cell_type": "code",
   "execution_count": null,
   "metadata": {},
   "outputs": [],
   "source": [
    "'''\n",
    "Old functions\n",
    "'''\n",
    "# def Find_max_weight_spanning_tree_in_DAG(DAG):\n",
    "#     Spanning_tree = nx.DiGraph()\n",
    "#     Spanning_tree.add_nodes_from(DAG.nodes)\n",
    "#     for vertex in DAG.nodes:\n",
    "#         if DAG.in_degree[vertex]!=0 :\n",
    "#             max_weight = 0\n",
    "#             for parents in list(DAG.predecessors(vertex)):\n",
    "#                 weight = DAG.edges[parents,vertex]['weight']\n",
    "#                 if weight>=max_weight:\n",
    "#                     max_weight = weight\n",
    "#                     edge_to_add = (parents,vertex)\n",
    "#             Spanning_tree.add_edge(edge_to_add[0],edge_to_add[1], weight = max_weight)\n",
    "#     return Spanning_tree\n"
   ]
  }
 ],
 "metadata": {
  "kernelspec": {
   "display_name": "Python 3",
   "language": "python",
   "name": "python3"
  },
  "language_info": {
   "codemirror_mode": {
    "name": "ipython",
    "version": 3
   },
   "file_extension": ".py",
   "mimetype": "text/x-python",
   "name": "python",
   "nbconvert_exporter": "python",
   "pygments_lexer": "ipython3",
   "version": "3.7.1"
  }
 },
 "nbformat": 4,
 "nbformat_minor": 2
}
