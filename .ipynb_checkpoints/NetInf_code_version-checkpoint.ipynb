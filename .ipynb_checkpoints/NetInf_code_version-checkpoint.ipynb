{
 "cells": [
  {
   "cell_type": "code",
   "execution_count": 1,
   "metadata": {},
   "outputs": [],
   "source": [
    "import networkx as nx # version 2.2\n",
    "import matplotlib.pyplot as plt\n",
    "import re\n",
    "import random\n",
    "import operator #to sort elements in a list of tuples\n",
    "import itertools\n",
    "import math\n",
    "import numpy as np\n",
    "import os\n",
    "import sys\n",
    "    \n",
    "import Cascade_generation_functions as C_gen\n",
    "import Init_NetInf"
   ]
  },
  {
   "cell_type": "code",
   "execution_count": 2,
   "metadata": {},
   "outputs": [],
   "source": [
    "'''\n",
    "Global variables\n",
    "'''\n",
    "\n",
    "EPS = 1e-64 #zero machine\n",
    "ALPHA = 1.0 #Incubation parameter (for exp and power law)\n",
    "MODEL = 0 # 0 = exp law, 1 = power law (power law is not fully implemented yet)\n",
    "ITER = 5 #Number of interation of the greedy algo\n",
    "MAX = sys.float_info.max #Max value of a float in python\n",
    "MIN = sys.float_info.min #Min value of a float in python\n",
    "\n",
    "graph_txt_file_path = \"./Graph_files/\"\n",
    "cascade_txt_file_path = \"./Cascade_files/\""
   ]
  },
  {
   "cell_type": "code",
   "execution_count": null,
   "metadata": {},
   "outputs": [],
   "source": [
    "def Create_ground_truth_from_file(file):\n",
    "    f = open(file,\"r\")\n",
    "    G = nx.DiGraph()\n",
    "    for nodes in f:\n",
    "        if not nodes.strip(): ## Stop at the first blank line\n",
    "            print(\"stop\")\n",
    "            break\n",
    "        node = re.split(',|\\n',nodes) # the format of the input file is <id>,<name>  \n",
    "        vertex = node[0]\n",
    "        names = node[1]\n",
    "        G.add_node(int(vertex),name = names)\n",
    "    for edges in f :\n",
    "        edge = re.split(',|\\n',edges)\n",
    "        vertex_i = edge[0] # initial vertex of the directed edge\n",
    "        vertex_f = edge[1] # final vertex of the edge\n",
    "        G.add_edge(int(vertex_i),int(vertex_f),number_of_cascade_edge_is_in =0)\n",
    "    return G\n",
    "\n",
    "def Save_graph_to_file(G,file_name):\n",
    "    f = open(file_name,\"w\")\n",
    "    for nodes in G.nodes() :\n",
    "        f.write(str(nodes)+\",\"+str(nodes)+\"\\n\")\n",
    "    f.write(\"\\n\")\n",
    "    for edges in G.edges():\n",
    "        v1,v2 = edges\n",
    "        f.write(str(v1)+\",\"+str(v2)+\"\\n\")\n",
    "    f.close()"
   ]
  },
  {
   "cell_type": "code",
   "execution_count": null,
   "metadata": {},
   "outputs": [],
   "source": [
    "# This does not make sense for me. But for now I implement the same function they used in their c++ code\n",
    "def TransProb(DAG, v1,v2):\n",
    "    global MODEL\n",
    "    global ALPHA\n",
    "    if( v1 not in DAG.nodes() or v2 not in DAG.nodes()) :\n",
    "        return EPS\n",
    "    t1 = DAG.nodes[v1][\"time\"]\n",
    "    t2 = DAG.nodes[v2][\"time\"]\n",
    "    if t1>=t2 :\n",
    "        return EPS\n",
    "    if MODEL == 0:\n",
    "        prob = ALPHA*math.exp(-ALPHA*(t2-t1))\n",
    "    elif MODEL ==1 :\n",
    "        prob = (ALPHA-1)*math.pow((t2-t1),-ALPHA)\n",
    "    return prob\n",
    "\n",
    "\n",
    "def GetAllCascProb(v1,v2,DAG_Tree_c_dic,cascades_per_edge_dic):\n",
    "    p = 0\n",
    "    if(v1==-1 and v2 ==-1):\n",
    "        for c_key in DAG_Tree_c_dic :\n",
    "            (Tree_c,current_prob_Tc) = UpdateProb(DAG_Tree_c_dic[c_key],v1,v2,False) # Initial Log likelihood for all trees\n",
    "            p += current_prob_Tc\n",
    "        return p\n",
    "    cascade_edge_list = cascades_per_edge_dic[(v1,v2)]\n",
    "    \n",
    "    for c_key in cascade_edge_list :\n",
    "#         print(\"In GetALL : \",DAG_Tree_c_dic[c_key])\n",
    "        (Tree_c,current_prob_Tc) = UpdateProb(DAG_Tree_c_dic[c_key],v1,v2,False)\n",
    "#         print(\"okay\")\n",
    "        p +=(current_prob_Tc-DAG_Tree_c_dic[c_key][2]) # marginal gain of adding edge (v1,v2)\n",
    "    return p\n",
    "        \n",
    "def UpdateProb(DAG_Tree_c_prob,v1,v2,updateProb_bool): \n",
    "    DAG_c,Tree_c,current_prob_Tc = DAG_Tree_c_prob\n",
    "    if(v1 not in Tree_c.nodes() or v2 not in Tree_c.nodes()):\n",
    "        return (Tree_c,current_prob_Tc)\n",
    "    if DAG_c.nodes[v1][\"time\"]>=DAG_c.nodes[v2][\"time\"] :\n",
    "        return (Tree_c,current_prob_Tc)\n",
    "    parent_v2_list = list(Tree_c.predecessors(v2))\n",
    "    if len(parent_v2_list) == 0:\n",
    "        parent_v2 = -1 #set an impossible node\n",
    "    else :\n",
    "        parent_v2 = parent_v2_list[0]\n",
    "    p1 = math.log(TransProb(DAG_c, parent_v2,v2))\n",
    "    p2 = math.log(TransProb(DAG_c,v1,v2))\n",
    "    if (p1<p2) :\n",
    "        if(updateProb_bool) :\n",
    "            if (parent_v2,v2) in Tree_c.edges():\n",
    "                Tree_c.remove_edge(parent_v2,v2)\n",
    "            Tree_c.add_edge(v1,v2)\n",
    "        current_prob_Tc = current_prob_Tc-p1+p2\n",
    "    return(Tree_c,current_prob_Tc)\n"
   ]
  },
  {
   "cell_type": "code",
   "execution_count": null,
   "metadata": {},
   "outputs": [],
   "source": [
    "def GetBestEdge(current_prob,last_gain,msort,MIN,dic_of_gain_per_edge,G_star,DAG_Tree_c_dic,cascades_per_edge_dic):\n",
    "    best_gain = MIN #Assigne value -infinity to the best gain\n",
    "    best_gain_index = -1\n",
    "    zero_edge_list = []\n",
    "    if msort :\n",
    "        sorted_gain_per_edge_list = sorted(dic_of_gain_per_edge.items(), key=operator.itemgetter(1),reverse=True)\n",
    "        dic_of_gain_per_edge = dict(sorted_gain_per_edge_list)\n",
    "        \n",
    "    key_list = list(dic_of_gain_per_edge.keys())\n",
    "    attempts = 0\n",
    "    for index,key_edge in enumerate(dic_of_gain_per_edge) :\n",
    "        edge = key_edge\n",
    "        if edge in G_star.edges(): #The edge is already in the network\n",
    "            continue\n",
    "        #Computes the marginal gain of adding the edge to the network\n",
    "        edge_marginal_gain = GetAllCascProb(edge[0],edge[1],DAG_Tree_c_dic,cascades_per_edge_dic)\n",
    "        dic_of_gain_per_edge[edge] = edge_marginal_gain #Update marginal gain\n",
    "        if(best_gain<edge_marginal_gain):\n",
    "            best_gain = edge_marginal_gain\n",
    "            best_edge = edge\n",
    "            best_gain_index = index\n",
    "        attempts +=1 # Needed for sorting later\n",
    "        \n",
    "        if (edge not in G_star.edges() and G_star.number_of_edges()>1):\n",
    "            if(edge_marginal_gain==0) : #Case where there is no improvement in the marginal gain\n",
    "                zero_edge_list.append(index)\n",
    "        \n",
    "        #Lazy evaluation\n",
    "        if (index+1 == len(dic_of_gain_per_edge) or best_gain>=dic_of_gain_per_edge[key_list[index+1]]):\n",
    "            current_prob += best_gain\n",
    "            if best_gain == 0 :\n",
    "                return ((-1,-1),current_prob,msort,last_gain,dic_of_gain_per_edge)\n",
    "            \n",
    "            del dic_of_gain_per_edge[key_list[best_gain_index]] \n",
    "            \n",
    "            for i in reversed(zero_edge_list):\n",
    "                if i > best_gain_index :\n",
    "                    del dic_of_gain_per_edge[key_list[i-1]]\n",
    "                else :\n",
    "                    del dic_of_gain_per_edge[key_list[i]]\n",
    "            if len(zero_edge_list)>2:\n",
    "                attempts = attempts-(len(zero_edge_list)-1)\n",
    "            msort = (attempts>1)\n",
    "            last_gain = best_gain\n",
    "            \n",
    "            return (best_edge,current_prob,msort,last_gain,dic_of_gain_per_edge)"
   ]
  },
  {
   "cell_type": "code",
   "execution_count": null,
   "metadata": {},
   "outputs": [],
   "source": [
    "def GreedyOpt(max_edges,DAG_Tree_c_dic,cascades_per_edge_dic,dic_of_gain_per_edge,G_star,MAX,MIN) :\n",
    "    current_log_likelihood = GetAllCascProb(-1,-1,DAG_Tree_c_dic,cascades_per_edge_dic)\n",
    "    last_gain = MAX\n",
    "    msort = False\n",
    "    k = 0\n",
    "    while (k<max_edges and len(edge_gain_dic)>0):\n",
    "        prev = current_log_likelihood\n",
    "        print(\"itteration : \",k)\n",
    "        (best_edge,current_log_likelihood,msort,last_gain,dic_of_gain_per_edge) = GetBestEdge(current_log_likelihood,\n",
    "                                                                                    last_gain,\n",
    "                                                                                    msort,\n",
    "                                                                                    MIN,\n",
    "                                                                                    dic_of_gain_per_edge,\n",
    "                                                                                    G_star,\n",
    "                                                                                    DAG_Tree_c_dic,\n",
    "                                                                                    cascades_per_edge_dic)\n",
    "        print(\"Best edge is \",best_edge)\n",
    "        if best_edge == (-1,-1): #No more edges can be added to G_star\n",
    "            break\n",
    "        #To DO Compare GroundTruth stuff\n",
    "        G_star.add_edge(best_edge[0],best_edge[1])\n",
    "        k+=1\n",
    "        #To DO BoundON stuff\n",
    "        \n",
    "        #Localized update\n",
    "        cascade_local = cascades_per_edge_dic[best_edge]\n",
    "        for c in cascade_local :\n",
    "            Tree_c,current_prob_Tc = UpdateProb(DAG_Tree_c_dic[c],best_edge[0],best_edge[1],True)\n",
    "            DAG_Tree_c_dic[c] = (DAG_Tree_c_dic[c][0],Tree_c,current_prob_Tc)\n",
    "    return G_star"
   ]
  },
  {
   "cell_type": "code",
   "execution_count": null,
   "metadata": {},
   "outputs": [],
   "source": [
    "G_true = Create_ground_truth_from_file(\"example-network.txt\")\n",
    "# nx.draw(G_true, with_labels=True, node_size=1500, node_color=\"skyblue\", pos=nx.spring_layout(G_true))\n",
    "# plt.title(\"spring\")\n",
    "# plt.show()\n",
    "# nx.write_gexf(G_true,\"Test.gexf\") # Save the graph in a file that is going to be used in the Gephi software (for visualization)\n"
   ]
  },
  {
   "cell_type": "code",
   "execution_count": null,
   "metadata": {},
   "outputs": [],
   "source": [
    "G_star,DAG_Tree_c_dic,cascades_per_edge_dic,edge_gain_dic = Init_NetInf.Init(\"example-cascades.txt\",EPS,MAX)\n",
    "print(len(cascades_per_edge_dic))\n",
    "print(len(DAG_Tree_c_dic))"
   ]
  },
  {
   "cell_type": "code",
   "execution_count": null,
   "metadata": {
    "scrolled": true
   },
   "outputs": [],
   "source": [
    "G_max = GreedyOpt(50,DAG_Tree_c_dic,cascades_per_edge_dic,edge_gain_dic,G_star,MAX,MIN)\n"
   ]
  },
  {
   "cell_type": "code",
   "execution_count": null,
   "metadata": {},
   "outputs": [],
   "source": [
    "current_log_likelihood = GetAllCascProb(-1,-1,DAG_Tree_c_dic,cascades_per_edge_dic)\n",
    "last_gain = MAX\n",
    "msort = False\n",
    "print(\"Current log likelihood of the graph :\",  current_log_likelihood)\n",
    "print(\"Last gain \", last_gain)\n",
    "print(\"Sort is : \", msort)\n",
    "print(\"Min is : \", MIN)\n",
    "print(\"Number of edges in the dic of edge :\",len(edge_gain_dic))\n",
    "print(\"Number of edges in G star : \",G_star.number_of_edges())\n",
    "print(\"Number of edges in G true : \",G_true.number_of_edges())"
   ]
  },
  {
   "cell_type": "code",
   "execution_count": null,
   "metadata": {},
   "outputs": [],
   "source": [
    "correct = 0\n",
    "for edge in G_max_5.edges() :\n",
    "    if edge in G_true.edges():\n",
    "        correct +=1\n",
    "    else :\n",
    "        print(\"Wrong edge. \",edge)\n",
    "correct_ratio = correct/G_star.number_of_edges() * 100\n",
    "print(correct_ratio)"
   ]
  },
  {
   "cell_type": "code",
   "execution_count": null,
   "metadata": {},
   "outputs": [],
   "source": [
    "G_txt = \"Test_graph.txt\"\n",
    "C_gen.Save_graph_to_file(os.path.join(graph_txt_file_path+G_txt),G_gen)"
   ]
  },
  {
   "cell_type": "code",
   "execution_count": 3,
   "metadata": {},
   "outputs": [],
   "source": [
    "G_gen = C_gen.Generate_random_graph(1024,1446)\n",
    "ratio = 95\n",
    "beta = 0.5\n",
    "alpha = 1\n",
    "window = 100\n",
    "model = 0\n",
    "cascade_dic = C_gen.Generate_all_cascades(G_gen,ratio,beta,alpha,window,model)\n",
    "C_gen.Save_cascade_to_file(os.path.join(cascade_txt_file_path+\"big_cascade.txt\"),cascade_dic,G_gen)"
   ]
  },
  {
   "cell_type": "code",
   "execution_count": 4,
   "metadata": {},
   "outputs": [
    {
     "name": "stdout",
     "output_type": "stream",
     "text": [
      "All nodes were read\n"
     ]
    }
   ],
   "source": [
    "G,cascade_list = Init_NetInf.load_cascade_from_file(os.path.join(cascade_txt_file_path+\"big_cascade.txt\"))"
   ]
  },
  {
   "cell_type": "code",
   "execution_count": null,
   "metadata": {},
   "outputs": [],
   "source": [
    "bla_list = [1,10,156,3021]\n",
    "for bla in bla_list :\n",
    "    if bla == bla_list[-1] :\n",
    "        print(bla)\n",
    "    else :\n",
    "        print(\"plop\")"
   ]
  },
  {
   "cell_type": "code",
   "execution_count": null,
   "metadata": {},
   "outputs": [
    {
     "name": "stdout",
     "output_type": "stream",
     "text": [
      "All nodes were read\n"
     ]
    }
   ],
   "source": [
    "G_star,DAG_Tree_c_dic,cascades_per_edge_dic,edge_gain_dic = Init_NetInf.Init(os.path.join(cascade_txt_file_path+\"big_cascade.txt\"),EPS,MAX)\n",
    "print(len(cascades_per_edge_dic))\n",
    "print(len(DAG_Tree_c_dic))"
   ]
  }
 ],
 "metadata": {
  "kernelspec": {
   "display_name": "Python 3",
   "language": "python",
   "name": "python3"
  },
  "language_info": {
   "codemirror_mode": {
    "name": "ipython",
    "version": 3
   },
   "file_extension": ".py",
   "mimetype": "text/x-python",
   "name": "python",
   "nbconvert_exporter": "python",
   "pygments_lexer": "ipython3",
   "version": "3.7.1"
  }
 },
 "nbformat": 4,
 "nbformat_minor": 2
}
