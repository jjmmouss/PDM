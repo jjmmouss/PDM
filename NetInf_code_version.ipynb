{
 "cells": [
  {
   "cell_type": "code",
   "execution_count": 2,
   "metadata": {},
   "outputs": [],
   "source": [
    "import networkx as nx # version 2.2\n",
    "import matplotlib.pyplot as plt\n",
    "import re\n",
    "import random\n",
    "import operator #to sort elements in a list of tuples\n",
    "import itertools\n",
    "import math\n",
    "import numpy as np\n",
    "import os\n",
    "import sys\n",
    "    \n",
    "import Cascade_generation_functions as C_gen\n",
    "import Init_NetInf\n",
    "import Greedy_NetInf as Greed"
   ]
  },
  {
   "cell_type": "markdown",
   "metadata": {},
   "source": [
    "# Some variables"
   ]
  },
  {
   "cell_type": "code",
   "execution_count": null,
   "metadata": {},
   "outputs": [],
   "source": [
    "'''\n",
    "Global variables\n",
    "'''\n",
    "\n",
    "EPS = 1e-64 #zero machine\n",
    "ALPHA = 1.0 #Incubation parameter (for exp and power law)\n",
    "MODEL = 0 # 0 = exp law, 1 = power law (power law is not fully implemented yet)\n",
    "MAX = sys.float_info.max #Max value of a float in python\n",
    "#MIN = sys.float_info.min #Min value of a float in python\n",
    "MIN = -MAX\n",
    "\n",
    "#(works only if groundtruth is available)\n",
    "#When set to True (especially boundOn) it slow down greatly the computation\n",
    "compare_groud_truth = True # If set to True outputs some aditional information (precision and recall of the algo)\n",
    "boundOn = True\n",
    "\n",
    "\n",
    "greedy_global_param = (ALPHA,MODEL,MAX,MIN,EPS,compare_groud_truth,boundOn)\n",
    "'''\n",
    "Model generation parameter\n",
    "'''\n",
    "ratio = 99 #we want 95% of the true edges to be present at least once\n",
    "beta = 0.5 # proba of an edge propagating the infection\n",
    "alpha = 1.0 #incubation time param (for exp law and power law)\n",
    "window = 100 #max time duration of a cascade\n",
    "model = 0 # 0 = exp law, 1 = power law\n",
    "model_param = (ratio,beta,alpha,window,model)\n",
    "\n",
    "#Path to store the txt file of the ground truth graph and the associated cascades\n",
    "gen_path = \"./Generation_files/\""
   ]
  },
  {
   "cell_type": "markdown",
   "metadata": {},
   "source": [
    "# Some functions "
   ]
  },
  {
   "cell_type": "code",
   "execution_count": null,
   "metadata": {},
   "outputs": [],
   "source": [
    "def Generation_of_Ground_truth_and_corresponding_cascades(model_param,nb_vertex,nb_edges,file_name,dir_path) :\n",
    "    ratio,beta,alpha,window,model = model_param\n",
    "    \n",
    "    G_true = C_gen.Generate_random_graph(nb_vertex,nb_edges)\n",
    "    cascade_dic = C_gen.Generate_all_cascades(G_true,ratio,beta,alpha,window,model)\n",
    "    \n",
    "    dir_name = \"Gen_\"+file_name\n",
    "    dir_path = os.path.join(dir_path)+dir_name\n",
    "    os.mkdir(dir_path)\n",
    "    \n",
    "    G_name = \"G_\"+file_name+\".txt\"\n",
    "    C_name = \"C_\"+file_name+\".txt\"\n",
    "    \n",
    "    G_file = os.path.join(dir_path+\"/\"+G_name)\n",
    "    C_file = os.path.join(dir_path+\"/\"+C_name)\n",
    "    C_gen.Save_graph_to_file(G_file,G_true)\n",
    "    C_gen.Save_cascade_to_file(C_file,cascade_dic,G_true)\n",
    "    return dir_path\n",
    "\n",
    "def Correct_guess_ratio(G_true,G_star) :\n",
    "    correct = 0\n",
    "    wrong_edge_list = []\n",
    "    for edge in G_star.edges() :\n",
    "        if edge in G_true.edges():\n",
    "            correct +=1\n",
    "        else :\n",
    "            wrong_edge_list.append(edge)\n",
    "    correct_ratio = correct/G_star.number_of_edges() * 100\n",
    "    print(correct_ratio)\n",
    "    return wrong_edge_list"
   ]
  },
  {
   "cell_type": "markdown",
   "metadata": {},
   "source": [
    "# NetInf"
   ]
  },
  {
   "cell_type": "markdown",
   "metadata": {},
   "source": [
    "## Generation of Ground truth and associated cascades"
   ]
  },
  {
   "cell_type": "code",
   "execution_count": null,
   "metadata": {},
   "outputs": [],
   "source": [
    "file_name = str(16)\n",
    "nb_vertex,nb_edges = (1024,1446)\n",
    "dir_name = Generation_of_Ground_truth_and_corresponding_cascades(model_param,nb_vertex,nb_edges,file_name,gen_path)\n",
    "G_true_file = dir_name+\"/G_\"+file_name+\".txt\"\n",
    "G_true = Init_NetInf.Create_ground_truth_from_file(G_true_file)"
   ]
  },
  {
   "cell_type": "markdown",
   "metadata": {},
   "source": [
    "## Initialization of G_star and the different dictionaries"
   ]
  },
  {
   "cell_type": "code",
   "execution_count": null,
   "metadata": {},
   "outputs": [],
   "source": [
    "cascade_file = dir_name+\"/C_\"+file_name+\".txt\" #this assumed that we generated everything before.\n",
    "#If you already have the files juste replace this variable by the correct path\n",
    "G_star,DAG_Tree_c_dic,cascades_per_edge_dic,edge_gain_dic = Init_NetInf.Init(cascade_file,EPS,MAX)\n",
    "print(\"number of edges is : \", len(edge_gain_dic))\n"
   ]
  },
  {
   "cell_type": "markdown",
   "metadata": {},
   "source": [
    "## Computation of G* by the greedy algo"
   ]
  },
  {
   "cell_type": "code",
   "execution_count": null,
   "metadata": {
    "scrolled": true
   },
   "outputs": [],
   "source": [
    "nb_max_edge = int(1*G_true.number_of_edges()) #fix a number of edges we want to recover (here 90%)\n",
    "if compare_groud_truth :\n",
    "    ground_truth = G_true\n",
    "else :\n",
    "    ground_truth = nx.DiGraph() # empty graph\n",
    "G_max,precision,recall,edge_info = Greed.GreedyOpt(nb_max_edge,DAG_Tree_c_dic,cascades_per_edge_dic,edge_gain_dic,G_star,ground_truth,greedy_global_param)\n",
    "G_approx_file_name = dir_name+\"/G_max_\"+file_name+\".txt\"\n",
    "C_gen.Save_graph_to_file(G_approx_file_name,G_max)"
   ]
  },
  {
   "cell_type": "markdown",
   "metadata": {},
   "source": [
    "## Plots and stats"
   ]
  },
  {
   "cell_type": "code",
   "execution_count": null,
   "metadata": {},
   "outputs": [],
   "source": [
    "wrong_edge_list = Correct_guess_ratio(G_true,G_max)\n",
    "print(\"There are %i wrong edges in G_max\" % len(wrong_edge_list))\n"
   ]
  },
  {
   "cell_type": "code",
   "execution_count": null,
   "metadata": {},
   "outputs": [],
   "source": [
    "nb_edge_of_G_true_not_in_Cascades = 0\n",
    "for edge in G_true.edges() :\n",
    "    if edge not in cascades_per_edge_dic :\n",
    "        nb_edge_of_G_true_not_in_Cascades +=1\n",
    "f_fraction = 1-nb_edge_of_G_true_not_in_Cascades/G_true.number_of_edges()"
   ]
  },
  {
   "cell_type": "code",
   "execution_count": null,
   "metadata": {},
   "outputs": [],
   "source": [
    "total_number_of_edge_transmission = 0\n",
    "\n",
    "for edge in cascades_per_edge_dic :\n",
    "    total_number_of_edge_transmission += len(cascades_per_edge_dic[edge])\n"
   ]
  },
  {
   "cell_type": "code",
   "execution_count": null,
   "metadata": {},
   "outputs": [],
   "source": [
    "'''Genrale Infos'''\n",
    "\n",
    "print(\"Genral Infos\\n\")\n",
    "print(\"Ground truth has %i vertices and %i edges\" %(G_true.number_of_nodes(),G_true.number_of_edges()))\n",
    "print(\"f fraction of edges that participated in at least 1 cascade is : %i \" % int(f_fraction*100) + \"%\")\n",
    "print(\"Number of cascades is : \",len(DAG_Tree_c_dic))\n",
    "print(\"Number of different edges is : \",len(cascades_per_edge_dic))\n",
    "print(\"Accuracy of the final G_k :\", precision[-1]*100)\n",
    "print(\" r : number of edge transmission is : \", total_number_of_edge_transmission)\n",
    "print(\"Average size of a cascade is : \",total_number_of_edge_transmission/len(DAG_Tree_c_dic))\n",
    "print(\"Average number of cascade an edge belongs to \", total_number_of_edge_transmission/len(cascades_per_edge_dic))\n",
    "print (\"Break even point is : 0.97 \")\n",
    "\n",
    "f = open(\"General_info.txt\",\"w\")\n",
    "f.write(\"Genral Infos\\n\")\n",
    "f.write(\"Ground truth has \" + str(G_true.number_of_nodes())+ \" vertices and \"+str(G_true.number_of_edges())+ \" edges\\n\")\n",
    "f.write(\"f fraction of edges that participated in at least 1 cascade is : \" + str(int(f_fraction*100)) + \"%\\n\")\n",
    "f.write(\"Number of cascades is : \" + str(len(DAG_Tree_c_dic)) + \"\\n\")\n",
    "f.write(\"Number of different edges is : \" + str(len(cascades_per_edge_dic)) + \"\\n\")\n",
    "f.write(\"Accuracy of the final G_k : \" + str(precision[-1]*100))\n",
    "f.write(\" r : number of edge transmission is : \"+ str(total_number_of_edge_transmission) + \"\\n\")\n",
    "f.write(\"Average size of a cascade is : \" + str(total_number_of_edge_transmission/len(DAG_Tree_c_dic)) + \"\\n\")\n",
    "f.write(\"Average number of cascade an edge belongs to \" + str(total_number_of_edge_transmission/len(cascades_per_edge_dic)) + \"\\n\")\n",
    "f.write(\"Break even point is : 0.97\\n\")\n",
    "f.write(\"alpha = \" + str(ALPHA) + \"\\n\")\n",
    "f.write(\"beta = \" + str(beta) )\n",
    "f.close()"
   ]
  },
  {
   "cell_type": "code",
   "execution_count": null,
   "metadata": {
    "scrolled": false
   },
   "outputs": [],
   "source": [
    "'''Plot the precision and the recall'''\n",
    "nb_edge_itt = range(1,len(precision)+1)\n",
    "plt.plot(nb_edge_itt,precision,label = \"Precision\")\n",
    "plt.plot(nb_edge_itt,recall,label = \"Recall\")\n",
    "plt.legend()\n",
    "plt.xlabel(\"Number of edges of G_k\")\n",
    "plt.ylabel(\"Percentage\")\n",
    "plt.savefig(\"precision_vs_nb_edges.png\")\n",
    "plt.show()\n",
    "\n",
    "plt.plot(recall,precision)\n",
    "plt.xlabel(\"Recall\")\n",
    "plt.ylabel(\"Precision\")\n",
    "plt.savefig(\"precision_vs_recall.png\")\n",
    "plt.show()"
   ]
  },
  {
   "cell_type": "code",
   "execution_count": null,
   "metadata": {},
   "outputs": [],
   "source": [
    "'''plot of the objective function and the upper bound'''\n",
    "\n",
    "nb_edge = list(range(1,len(edge_info)+1))\n",
    "gains = []\n",
    "bound = []\n",
    "for edge in edge_info :\n",
    "    if len(gains)!= 0:\n",
    "        marginal_gain = edge_info[edge][0]+gains[-1]\n",
    "        theoretical_bound = edge_info[edge][1]+gains[-1]\n",
    "    else :\n",
    "        marginal_gain = edge_info[edge][0]\n",
    "        theoretical_bound = edge_info[edge][0]+edge_info[edge][1] #Marginal_gain + marginal_bound\n",
    "    gains.append(marginal_gain)\n",
    "    bound.append(theoretical_bound)\n",
    "plt.plot(nb_edge,gains,label = \"objectif function\")\n",
    "plt.plot(nb_edge,bound,label = \"Upper Bound\")\n",
    "plt.legend()\n",
    "plt.xlabel(\"Number of edges\")\n",
    "plt.ylabel(\"Value of the objective function\")\n",
    "plt.savefig(\"Objective_fct_and_UpperBound.png\")\n",
    "plt.show()"
   ]
  },
  {
   "cell_type": "code",
   "execution_count": null,
   "metadata": {},
   "outputs": [],
   "source": [
    "'''\n",
    "Plot of the number of cascades per edge\n",
    "'''\n",
    "\n",
    "tmp_dic = {}\n",
    "for edge in cascades_per_edge_dic :\n",
    "    nb_cascade_edge_is_in = len(cascades_per_edge_dic[edge])\n",
    "    try :\n",
    "        tmp_dic[nb_cascade_edge_is_in] +=1\n",
    "    except KeyError :\n",
    "        tmp_dic[nb_cascade_edge_is_in] = 1\n",
    "sorted_nb_edge_cascade_list = sorted(tmp_dic.items(), key=operator.itemgetter(0))\n",
    "x_data = []\n",
    "y_data = []\n",
    "for pairs in sorted_nb_edge_cascade_list :\n",
    "    x_data.append(pairs[0])\n",
    "    y_data.append(pairs[1])\n",
    "plt.bar(x_data,y_data)\n",
    "plt.xlabel(\"Number of cascades per edge\")\n",
    "plt.ylabel(\"Number of edges\")\n",
    "plt.savefig(\"cascade_per_edge.png\")\n",
    "plt.show()\n"
   ]
  },
  {
   "cell_type": "code",
   "execution_count": null,
   "metadata": {},
   "outputs": [],
   "source": [
    "'''\n",
    "plot the number of edges per cascades\n",
    "'''\n",
    "tmp_2_dic = {}\n",
    "for c in DAG_Tree_c_dic :\n",
    "    nb_edge_c = DAG_Tree_c_dic[c][0].number_of_edges()\n",
    "    try :\n",
    "        tmp_2_dic[nb_edge_c] += 1\n",
    "    except KeyError :\n",
    "        tmp_2_dic[nb_edge_c] = 1\n",
    "tmp_list = list(sorted(tmp_2_dic.items(),key = operator.itemgetter(0)))\n",
    "nb_edge_per_cascade = []\n",
    "nb_cascades = []\n",
    "for pair in tmp_list :\n",
    "    nb_edge_per_cascade.append(pair[0])\n",
    "    nb_cascades.append(pair[1])\n",
    "plt.scatter(nb_edge_per_cascade,nb_cascades)\n",
    "plt.xlabel(\"Number of edges per cascade\")\n",
    "plt.ylabel(\"Number of cascades\")\n",
    "plt.savefig(\"cascade_size.png\")\n",
    "plt.show()\n",
    "\n"
   ]
  }
 ],
 "metadata": {
  "kernelspec": {
   "display_name": "Python 3",
   "language": "python",
   "name": "python3"
  }
 },
 "nbformat": 4,
 "nbformat_minor": 2
}
